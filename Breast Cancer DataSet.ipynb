{
 "cells": [
  {
   "cell_type": "markdown",
   "metadata": {},
   "source": [
    "# Examining the Breast Cancer dataset from UCI"
   ]
  },
  {
   "cell_type": "code",
   "execution_count": 41,
   "metadata": {},
   "outputs": [],
   "source": [
    "import pandas as pd\n",
    "import numpy as np\n",
    "import matplotlib.pyplot as plt\n",
    "import seaborn as sns"
   ]
  },
  {
   "cell_type": "code",
   "execution_count": 42,
   "metadata": {},
   "outputs": [],
   "source": [
    "# Read in csv file of cancer dataset\n",
    "cancer = pd.read_csv('/mnt/c/Users/DeWayne Halfen/Documents/Data Science/DataSets/breast-cancer-wisconsin.csv')\n",
    "# Label features \n",
    "cancer.columns = ['id', 'clump_tickness' , 'uniformity_of_cell_size', 'uniformity_of_cell_shape', 'marginal_adhesion', 'single_cell_size', 'bare_nuclei', 'bland_chromatin', 'normal_nucleoli', 'mitosis', 'class']"
   ]
  },
  {
   "cell_type": "code",
   "execution_count": 43,
   "metadata": {},
   "outputs": [
    {
     "data": {
      "text/html": [
       "<div>\n",
       "<style scoped>\n",
       "    .dataframe tbody tr th:only-of-type {\n",
       "        vertical-align: middle;\n",
       "    }\n",
       "\n",
       "    .dataframe tbody tr th {\n",
       "        vertical-align: top;\n",
       "    }\n",
       "\n",
       "    .dataframe thead th {\n",
       "        text-align: right;\n",
       "    }\n",
       "</style>\n",
       "<table border=\"1\" class=\"dataframe\">\n",
       "  <thead>\n",
       "    <tr style=\"text-align: right;\">\n",
       "      <th></th>\n",
       "      <th>id</th>\n",
       "      <th>clump_tickness</th>\n",
       "      <th>uniformity_of_cell_size</th>\n",
       "      <th>uniformity_of_cell_shape</th>\n",
       "      <th>marginal_adhesion</th>\n",
       "      <th>single_cell_size</th>\n",
       "      <th>bare_nuclei</th>\n",
       "      <th>bland_chromatin</th>\n",
       "      <th>normal_nucleoli</th>\n",
       "      <th>mitosis</th>\n",
       "      <th>class</th>\n",
       "    </tr>\n",
       "  </thead>\n",
       "  <tbody>\n",
       "    <tr>\n",
       "      <th>0</th>\n",
       "      <td>1002945</td>\n",
       "      <td>5</td>\n",
       "      <td>4</td>\n",
       "      <td>4</td>\n",
       "      <td>5</td>\n",
       "      <td>7</td>\n",
       "      <td>10</td>\n",
       "      <td>3</td>\n",
       "      <td>2</td>\n",
       "      <td>1</td>\n",
       "      <td>2</td>\n",
       "    </tr>\n",
       "    <tr>\n",
       "      <th>1</th>\n",
       "      <td>1015425</td>\n",
       "      <td>3</td>\n",
       "      <td>1</td>\n",
       "      <td>1</td>\n",
       "      <td>1</td>\n",
       "      <td>2</td>\n",
       "      <td>2</td>\n",
       "      <td>3</td>\n",
       "      <td>1</td>\n",
       "      <td>1</td>\n",
       "      <td>2</td>\n",
       "    </tr>\n",
       "    <tr>\n",
       "      <th>2</th>\n",
       "      <td>1016277</td>\n",
       "      <td>6</td>\n",
       "      <td>8</td>\n",
       "      <td>8</td>\n",
       "      <td>1</td>\n",
       "      <td>3</td>\n",
       "      <td>4</td>\n",
       "      <td>3</td>\n",
       "      <td>7</td>\n",
       "      <td>1</td>\n",
       "      <td>2</td>\n",
       "    </tr>\n",
       "    <tr>\n",
       "      <th>3</th>\n",
       "      <td>1017023</td>\n",
       "      <td>4</td>\n",
       "      <td>1</td>\n",
       "      <td>1</td>\n",
       "      <td>3</td>\n",
       "      <td>2</td>\n",
       "      <td>1</td>\n",
       "      <td>3</td>\n",
       "      <td>1</td>\n",
       "      <td>1</td>\n",
       "      <td>2</td>\n",
       "    </tr>\n",
       "    <tr>\n",
       "      <th>4</th>\n",
       "      <td>1018099</td>\n",
       "      <td>1</td>\n",
       "      <td>1</td>\n",
       "      <td>1</td>\n",
       "      <td>1</td>\n",
       "      <td>2</td>\n",
       "      <td>10</td>\n",
       "      <td>3</td>\n",
       "      <td>1</td>\n",
       "      <td>1</td>\n",
       "      <td>2</td>\n",
       "    </tr>\n",
       "  </tbody>\n",
       "</table>\n",
       "</div>"
      ],
      "text/plain": [
       "        id  clump_tickness  uniformity_of_cell_size  uniformity_of_cell_shape  \\\n",
       "0  1002945               5                        4                         4   \n",
       "1  1015425               3                        1                         1   \n",
       "2  1016277               6                        8                         8   \n",
       "3  1017023               4                        1                         1   \n",
       "4  1018099               1                        1                         1   \n",
       "\n",
       "   marginal_adhesion  single_cell_size bare_nuclei  bland_chromatin  \\\n",
       "0                  5                 7          10                3   \n",
       "1                  1                 2           2                3   \n",
       "2                  1                 3           4                3   \n",
       "3                  3                 2           1                3   \n",
       "4                  1                 2          10                3   \n",
       "\n",
       "   normal_nucleoli  mitosis  class  \n",
       "0                2        1      2  \n",
       "1                1        1      2  \n",
       "2                7        1      2  \n",
       "3                1        1      2  \n",
       "4                1        1      2  "
      ]
     },
     "execution_count": 43,
     "metadata": {},
     "output_type": "execute_result"
    }
   ],
   "source": [
    "# Examine data structure\n",
    "cancer.head()"
   ]
  },
  {
   "cell_type": "code",
   "execution_count": 44,
   "metadata": {},
   "outputs": [
    {
     "name": "stdout",
     "output_type": "stream",
     "text": [
      "<class 'pandas.core.frame.DataFrame'>\n",
      "RangeIndex: 698 entries, 0 to 697\n",
      "Data columns (total 11 columns):\n",
      "id                          698 non-null int64\n",
      "clump_tickness              698 non-null int64\n",
      "uniformity_of_cell_size     698 non-null int64\n",
      "uniformity_of_cell_shape    698 non-null int64\n",
      "marginal_adhesion           698 non-null int64\n",
      "single_cell_size            698 non-null int64\n",
      "bare_nuclei                 698 non-null object\n",
      "bland_chromatin             698 non-null int64\n",
      "normal_nucleoli             698 non-null int64\n",
      "mitosis                     698 non-null int64\n",
      "class                       698 non-null int64\n",
      "dtypes: int64(10), object(1)\n",
      "memory usage: 60.1+ KB\n"
     ]
    }
   ],
   "source": [
    "# Examine data structure\n",
    "cancer.info()"
   ]
  },
  {
   "cell_type": "code",
   "execution_count": 45,
   "metadata": {},
   "outputs": [
    {
     "name": "stdout",
     "output_type": "stream",
     "text": [
      "id                           0\n",
      "clump_tickness               0\n",
      "uniformity_of_cell_size      0\n",
      "uniformity_of_cell_shape     0\n",
      "marginal_adhesion            0\n",
      "single_cell_size             0\n",
      "bare_nuclei                 16\n",
      "bland_chromatin              0\n",
      "normal_nucleoli              0\n",
      "mitosis                      0\n",
      "class                        0\n",
      "dtype: int64\n"
     ]
    }
   ],
   "source": [
    "# Convert '?' to NaN\n",
    "cancer[cancer == '?'] = np.nan\n",
    "\n",
    "# Print the number of NaNs\n",
    "print(cancer.isnull().sum())"
   ]
  },
  {
   "cell_type": "code",
   "execution_count": 46,
   "metadata": {},
   "outputs": [
    {
     "name": "stdout",
     "output_type": "stream",
     "text": [
      "<class 'pandas.core.frame.DataFrame'>\n",
      "Int64Index: 682 entries, 0 to 697\n",
      "Data columns (total 11 columns):\n",
      "id                          682 non-null int64\n",
      "clump_tickness              682 non-null int64\n",
      "uniformity_of_cell_size     682 non-null int64\n",
      "uniformity_of_cell_shape    682 non-null int64\n",
      "marginal_adhesion           682 non-null int64\n",
      "single_cell_size            682 non-null int64\n",
      "bare_nuclei                 682 non-null float64\n",
      "bland_chromatin             682 non-null int64\n",
      "normal_nucleoli             682 non-null int64\n",
      "mitosis                     682 non-null int64\n",
      "class                       682 non-null int64\n",
      "dtypes: float64(1), int64(10)\n",
      "memory usage: 63.9 KB\n"
     ]
    }
   ],
   "source": [
    "# Remove rows with NaNs\n",
    "cancer['bare_nuclei'] = pd.to_numeric(cancer['bare_nuclei'], errors='coerce')\n",
    "cancer2 = cancer.dropna()\n",
    "cancer2.info()"
   ]
  },
  {
   "cell_type": "code",
   "execution_count": 47,
   "metadata": {},
   "outputs": [
    {
     "name": "stderr",
     "output_type": "stream",
     "text": [
      "/home/halfendt/anaconda3/lib/python3.6/site-packages/pandas/core/generic.py:3643: SettingWithCopyWarning: \n",
      "A value is trying to be set on a copy of a slice from a DataFrame.\n",
      "Try using .loc[row_indexer,col_indexer] = value instead\n",
      "\n",
      "See the caveats in the documentation: http://pandas.pydata.org/pandas-docs/stable/indexing.html#indexing-view-versus-copy\n",
      "  self[name] = value\n"
     ]
    }
   ],
   "source": [
    "# Convert bare_nuclei back to int64\n",
    "#cancer2['bare_nuclei'] = cancer2['bare_nuclei'].astype('int64')\n",
    "cancer2.bare_nuclei = cancer2.bare_nuclei.astype('int64')"
   ]
  },
  {
   "cell_type": "code",
   "execution_count": 48,
   "metadata": {},
   "outputs": [
    {
     "data": {
      "image/png": "[encoded data removed]",
      "text/plain": [
       "<matplotlib.figure.Figure at 0x7f2c31811780>"
      ]
     },
     "metadata": {},
     "output_type": "display_data"
    }
   ],
   "source": [
    "# Compute the correlation matrix\n",
    "corr = cancer2.iloc[:, 1:-1].corr()\n",
    "\n",
    "# Set up the matplotlib figure\n",
    "f, ax = plt.subplots(figsize=(11, 9))\n",
    "\n",
    "# Generate a custom diverging colormap\n",
    "cmap = sns.diverging_palette(220, 10, as_cmap=True)\n",
    "\n",
    "# Draw the heatmap with the mask and correct aspect ratio\n",
    "sns.heatmap(corr, cmap=cmap, vmax = 1.0, vmin = -1.0, center=0,\n",
    "            square=True, linewidths=.5, cbar_kws={\"shrink\": 0.7})\n",
    "plt.show()"
   ]
  },
  {
   "cell_type": "code",
   "execution_count": 50,
   "metadata": {},
   "outputs": [
    {
     "data": {
      "text/plain": [
       "array([[ 5,  4,  4, ...,  3,  2,  1],\n",
       "       [ 3,  1,  1, ...,  3,  1,  1],\n",
       "       [ 6,  8,  8, ...,  3,  7,  1],\n",
       "       ...,\n",
       "       [ 5, 10, 10, ...,  8, 10,  2],\n",
       "       [ 4,  8,  6, ..., 10,  6,  1],\n",
       "       [ 4,  8,  8, ..., 10,  4,  1]])"
      ]
     },
     "execution_count": 50,
     "metadata": {},
     "output_type": "execute_result"
    }
   ],
   "source": [
    "features = cancer2.iloc[:, 1:-1]\n",
    "features.values"
   ]
  },
  {
   "cell_type": "code",
   "execution_count": 51,
   "metadata": {},
   "outputs": [
    {
     "data": {
      "text/plain": [
       "['clump_tickness',\n",
       " 'uniformity_of_cell_size',\n",
       " 'uniformity_of_cell_shape',\n",
       " 'marginal_adhesion',\n",
       " 'single_cell_size',\n",
       " 'bare_nuclei',\n",
       " 'bland_chromatin',\n",
       " 'normal_nucleoli',\n",
       " 'mitosis']"
      ]
     },
     "execution_count": 51,
     "metadata": {},
     "output_type": "execute_result"
    }
   ],
   "source": [
    "feature_list = list(features)\n",
    "feature_list"
   ]
  },
  {
   "cell_type": "code",
   "execution_count": 60,
   "metadata": {},
   "outputs": [
    {
     "data": {
      "image/png": "[encoded data removed]",
      "text/plain": [
       "<matplotlib.figure.Figure at 0x7f2c3191f550>"
      ]
     },
     "metadata": {},
     "output_type": "display_data"
    }
   ],
   "source": [
    "pd.crosstab(cancer2['bare_nuclei'], cancer2['class']).plot(kind='bar')\n",
    "plt.show()"
   ]
  },
  {
   "cell_type": "code",
   "execution_count": 53,
   "metadata": {},
   "outputs": [
    {
     "data": {
      "image/png": "[encoded data removed]",
      "text/plain": [
       "<matplotlib.figure.Figure at 0x7f2c31d03940>"
      ]
     },
     "metadata": {},
     "output_type": "display_data"
    }
   ],
   "source": [
    "pd.crosstab(cancer2['uniformity_of_cell_size'], cancer2['class']).plot(kind='bar')\n",
    "plt.show()"
   ]
  },
  {
   "cell_type": "code",
   "execution_count": 73,
   "metadata": {},
   "outputs": [
    {
     "name": "stderr",
     "output_type": "stream",
     "text": [
      "/home/halfendt/anaconda3/lib/python3.6/site-packages/ipykernel_launcher.py:1: SettingWithCopyWarning: \n",
      "A value is trying to be set on a copy of a slice from a DataFrame.\n",
      "Try using .loc[row_indexer,col_indexer] = value instead\n",
      "\n",
      "See the caveats in the documentation: http://pandas.pydata.org/pandas-docs/stable/indexing.html#indexing-view-versus-copy\n",
      "  \"\"\"Entry point for launching an IPython kernel.\n"
     ]
    }
   ],
   "source": [
    "# Convert class to binary \"2\" is benign to \"0\", \"4\" is malignant to \"1\"\n",
    "cancer2['class'] = cancer2['class'].map({2: 0, 4: 1})"
   ]
  },
  {
   "cell_type": "code",
   "execution_count": 74,
   "metadata": {},
   "outputs": [],
   "source": [
    "#Split data into train and test set\n",
    "from sklearn.model_selection import train_test_split\n",
    "X_train, X_test, y_train, y_test = train_test_split(cancer2.iloc[:, 1:-1].values, cancer2['class'].values, test_size=0.3, random_state=42)"
   ]
  },
  {
   "cell_type": "code",
   "execution_count": 81,
   "metadata": {},
   "outputs": [
    {
     "name": "stdout",
     "output_type": "stream",
     "text": [
      "Number of observations in the training data: 477\n",
      "Number of observations in the test data: 205\n"
     ]
    }
   ],
   "source": [
    "print('Number of observations in the training data:', len(X_train))\n",
    "print('Number of observations in the test data:',len(X_test))"
   ]
  },
  {
   "cell_type": "code",
   "execution_count": 82,
   "metadata": {},
   "outputs": [],
   "source": [
    "# Perform Random Forest model on data\n",
    "from sklearn.ensemble import RandomForestClassifier\n",
    "rfc = RandomForestClassifier()\n",
    "rfc.fit(X_train, y_train)\n",
    "y_pred_rfc = rfc.predict(X_test)"
   ]
  },
  {
   "cell_type": "code",
   "execution_count": 83,
   "metadata": {},
   "outputs": [
    {
     "name": "stdout",
     "output_type": "stream",
     "text": [
      "[[138   2]\n",
      " [  6  59]]\n"
     ]
    }
   ],
   "source": [
    "# Examine results from RFC\n",
    "# Calculate confusion matrix on test data\n",
    "from sklearn.metrics import confusion_matrix\n",
    "confusion_matrix = confusion_matrix(y_test, y_pred_rfc)\n",
    "print(confusion_matrix)"
   ]
  },
  {
   "cell_type": "code",
   "execution_count": 84,
   "metadata": {},
   "outputs": [
    {
     "name": "stdout",
     "output_type": "stream",
     "text": [
      "             precision    recall  f1-score   support\n",
      "\n",
      "          0       0.96      0.99      0.97       140\n",
      "          1       0.97      0.91      0.94        65\n",
      "\n",
      "avg / total       0.96      0.96      0.96       205\n",
      "\n"
     ]
    }
   ],
   "source": [
    "# Calculate Classification Report on test data\n",
    "from sklearn.metrics import classification_report\n",
    "print(classification_report(y_test, y_pred_rfc))"
   ]
  },
  {
   "cell_type": "code",
   "execution_count": 85,
   "metadata": {},
   "outputs": [
    {
     "data": {
      "image/png": "[encoded data removed]",
      "text/plain": [
       "<matplotlib.figure.Figure at 0x7f2c2aa10c18>"
      ]
     },
     "metadata": {},
     "output_type": "display_data"
    }
   ],
   "source": [
    "# Plot most important features in RFC model\n",
    "feature_importances = pd.DataFrame({'feature names': feature_list, \n",
    "                                    'values': rfc.feature_importances_})\n",
    "feature_importances.sort_values(by='values', ascending=True, inplace=True)\n",
    "feature_importances.index = feature_importances['feature names']\n",
    "feature_importances.plot.barh()\n",
    "plt.show()"
   ]
  },
  {
   "cell_type": "code",
   "execution_count": 86,
   "metadata": {},
   "outputs": [],
   "source": [
    "# Perform Decision Tree mode on training data\n",
    "from sklearn import tree\n",
    "clf = tree.DecisionTreeClassifier()\n",
    "clf = clf.fit(X_train, y_train)\n",
    "y_pred_clf = clf.predict(X_test)"
   ]
  },
  {
   "cell_type": "code",
   "execution_count": 87,
   "metadata": {},
   "outputs": [
    {
     "data": {
      "text/plain": [
       "['benign', 'malignant']"
      ]
     },
     "execution_count": 87,
     "metadata": {},
     "output_type": "execute_result"
    }
   ],
   "source": [
    "# Define class names for Decision Tree flow chart\n",
    "names = ['benign','malignant']\n",
    "names"
   ]
  },
  {
   "cell_type": "code",
   "execution_count": 88,
   "metadata": {},
   "outputs": [
    {
     "data": {
      "image/svg+xml": [
       "<?xml version=\"1.0\" encoding=\"UTF-8\" standalone=\"no\"?>\n",
       "<!DOCTYPE svg PUBLIC \"-//W3C//DTD SVG 1.1//EN\"\n",
       " \"http://www.w3.org/Graphics/SVG/1.1/DTD/svg11.dtd\">\n",
       "<!-- Generated by graphviz version 2.40.1 (20161225.0304)\n",
       " -->\n",
       "<!-- Title: Tree Pages: 1 -->\n",
       "<svg width=\"1874pt\" height=\"1028pt\"\n",
       " viewBox=\"0.00 0.00 1874.00 1028.00\" xmlns=\"http://www.w3.org/2000/svg\" xmlns:xlink=\"http://www.w3.org/1999/xlink\">\n",
       "<g id=\"graph0\" class=\"graph\" transform=\"scale(1 1) rotate(0) translate(4 1024)\">\n",
       "<title>Tree</title>\n",
       "<polygon fill=\"#ffffff\" stroke=\"transparent\" points=\"-4,4 -4,-1024 1870,-1024 1870,4 -4,4\"/>\n",
       "<!-- 0 -->\n",
       "<g id=\"node1\" class=\"node\">\n",
       "<title>0</title>\n",
       "<path fill=\"#e58139\" fill-opacity=\"0.427451\" stroke=\"#000000\" d=\"M880,-1020C880,-1020 716,-1020 716,-1020 710,-1020 704,-1014 704,-1008 704,-1008 704,-949 704,-949 704,-943 710,-937 716,-937 716,-937 880,-937 880,-937 886,-937 892,-943 892,-949 892,-949 892,-1008 892,-1008 892,-1014 886,-1020 880,-1020\"/>\n",
       "<text text-anchor=\"start\" x=\"712\" y=\"-1004.8\" font-family=\"Helvetica,sans-Serif\" font-size=\"14.00\" fill=\"#000000\">uniformity_of_cell_size ≤ 3.5</text>\n",
       "<text text-anchor=\"start\" x=\"762.5\" y=\"-989.8\" font-family=\"Helvetica,sans-Serif\" font-size=\"14.00\" fill=\"#000000\">gini = 0.463</text>\n",
       "<text text-anchor=\"start\" x=\"753\" y=\"-974.8\" font-family=\"Helvetica,sans-Serif\" font-size=\"14.00\" fill=\"#000000\">samples = 477</text>\n",
       "<text text-anchor=\"start\" x=\"743.5\" y=\"-959.8\" font-family=\"Helvetica,sans-Serif\" font-size=\"14.00\" fill=\"#000000\">value = [303, 174]</text>\n",
       "<text text-anchor=\"start\" x=\"754\" y=\"-944.8\" font-family=\"Helvetica,sans-Serif\" font-size=\"14.00\" fill=\"#000000\">class = benign</text>\n",
       "</g>\n",
       "<!-- 1 -->\n",
       "<g id=\"node2\" class=\"node\">\n",
       "<title>1</title>\n",
       "<path fill=\"#e58139\" fill-opacity=\"0.925490\" stroke=\"#000000\" d=\"M666.5,-901C666.5,-901 569.5,-901 569.5,-901 563.5,-901 557.5,-895 557.5,-889 557.5,-889 557.5,-830 557.5,-830 557.5,-824 563.5,-818 569.5,-818 569.5,-818 666.5,-818 666.5,-818 672.5,-818 678.5,-824 678.5,-830 678.5,-830 678.5,-889 678.5,-889 678.5,-895 672.5,-901 666.5,-901\"/>\n",
       "<text text-anchor=\"start\" x=\"565.5\" y=\"-885.8\" font-family=\"Helvetica,sans-Serif\" font-size=\"14.00\" fill=\"#000000\">bare_nuclei ≤ 3.5</text>\n",
       "<text text-anchor=\"start\" x=\"586\" y=\"-870.8\" font-family=\"Helvetica,sans-Serif\" font-size=\"14.00\" fill=\"#000000\">gini = 0.13</text>\n",
       "<text text-anchor=\"start\" x=\"573\" y=\"-855.8\" font-family=\"Helvetica,sans-Serif\" font-size=\"14.00\" fill=\"#000000\">samples = 315</text>\n",
       "<text text-anchor=\"start\" x=\"567.5\" y=\"-840.8\" font-family=\"Helvetica,sans-Serif\" font-size=\"14.00\" fill=\"#000000\">value = [293, 22]</text>\n",
       "<text text-anchor=\"start\" x=\"574\" y=\"-825.8\" font-family=\"Helvetica,sans-Serif\" font-size=\"14.00\" fill=\"#000000\">class = benign</text>\n",
       "</g>\n",
       "<!-- 0&#45;&gt;1 -->\n",
       "<g id=\"edge1\" class=\"edge\">\n",
       "<title>0&#45;&gt;1</title>\n",
       "<path fill=\"none\" stroke=\"#000000\" d=\"M735.0447,-936.8796C719.6476,-926.7003 703.0862,-915.7514 687.4061,-905.3852\"/>\n",
       "<polygon fill=\"#000000\" stroke=\"#000000\" points=\"689.0707,-902.2899 678.7986,-899.6946 685.2102,-908.1292 689.0707,-902.2899\"/>\n",
       "<text text-anchor=\"middle\" x=\"683.796\" y=\"-920.4901\" font-family=\"Helvetica,sans-Serif\" font-size=\"14.00\" fill=\"#000000\">True</text>\n",
       "</g>\n",
       "<!-- 24 -->\n",
       "<g id=\"node25\" class=\"node\">\n",
       "<title>24</title>\n",
       "<path fill=\"#399de5\" fill-opacity=\"0.933333\" stroke=\"#000000\" d=\"M1214,-901C1214,-901 1050,-901 1050,-901 1044,-901 1038,-895 1038,-889 1038,-889 1038,-830 1038,-830 1038,-824 1044,-818 1050,-818 1050,-818 1214,-818 1214,-818 1220,-818 1226,-824 1226,-830 1226,-830 1226,-889 1226,-889 1226,-895 1220,-901 1214,-901\"/>\n",
       "<text text-anchor=\"start\" x=\"1046\" y=\"-885.8\" font-family=\"Helvetica,sans-Serif\" font-size=\"14.00\" fill=\"#000000\">uniformity_of_cell_size ≤ 4.5</text>\n",
       "<text text-anchor=\"start\" x=\"1096.5\" y=\"-870.8\" font-family=\"Helvetica,sans-Serif\" font-size=\"14.00\" fill=\"#000000\">gini = 0.116</text>\n",
       "<text text-anchor=\"start\" x=\"1087\" y=\"-855.8\" font-family=\"Helvetica,sans-Serif\" font-size=\"14.00\" fill=\"#000000\">samples = 162</text>\n",
       "<text text-anchor=\"start\" x=\"1081.5\" y=\"-840.8\" font-family=\"Helvetica,sans-Serif\" font-size=\"14.00\" fill=\"#000000\">value = [10, 152]</text>\n",
       "<text text-anchor=\"start\" x=\"1079\" y=\"-825.8\" font-family=\"Helvetica,sans-Serif\" font-size=\"14.00\" fill=\"#000000\">class = malignant</text>\n",
       "</g>\n",
       "<!-- 0&#45;&gt;24 -->\n",
       "<g id=\"edge24\" class=\"edge\">\n",
       "<title>0&#45;&gt;24</title>\n",
       "<path fill=\"none\" stroke=\"#000000\" d=\"M892.3717,-944.8765C934.7853,-929.7651 984.9612,-911.8881 1028.4113,-896.4074\"/>\n",
       "<polygon fill=\"#000000\" stroke=\"#000000\" points=\"1029.6161,-899.6937 1037.8614,-893.0404 1027.2667,-893.0997 1029.6161,-899.6937\"/>\n",
       "<text text-anchor=\"middle\" x=\"1027.1421\" y=\"-911.9257\" font-family=\"Helvetica,sans-Serif\" font-size=\"14.00\" fill=\"#000000\">False</text>\n",
       "</g>\n",
       "<!-- 2 -->\n",
       "<g id=\"node3\" class=\"node\">\n",
       "<title>2</title>\n",
       "<path fill=\"#e58139\" fill-opacity=\"0.992157\" stroke=\"#000000\" d=\"M438.5,-782C438.5,-782 261.5,-782 261.5,-782 255.5,-782 249.5,-776 249.5,-770 249.5,-770 249.5,-711 249.5,-711 249.5,-705 255.5,-699 261.5,-699 261.5,-699 438.5,-699 438.5,-699 444.5,-699 450.5,-705 450.5,-711 450.5,-711 450.5,-770 450.5,-770 450.5,-776 444.5,-782 438.5,-782\"/>\n",
       "<text text-anchor=\"start\" x=\"257.5\" y=\"-766.8\" font-family=\"Helvetica,sans-Serif\" font-size=\"14.00\" fill=\"#000000\">uniformity_of_cell_shape ≤ 4.5</text>\n",
       "<text text-anchor=\"start\" x=\"314.5\" y=\"-751.8\" font-family=\"Helvetica,sans-Serif\" font-size=\"14.00\" fill=\"#000000\">gini = 0.014</text>\n",
       "<text text-anchor=\"start\" x=\"305\" y=\"-736.8\" font-family=\"Helvetica,sans-Serif\" font-size=\"14.00\" fill=\"#000000\">samples = 284</text>\n",
       "<text text-anchor=\"start\" x=\"303\" y=\"-721.8\" font-family=\"Helvetica,sans-Serif\" font-size=\"14.00\" fill=\"#000000\">value = [282, 2]</text>\n",
       "<text text-anchor=\"start\" x=\"306\" y=\"-706.8\" font-family=\"Helvetica,sans-Serif\" font-size=\"14.00\" fill=\"#000000\">class = benign</text>\n",
       "</g>\n",
       "<!-- 1&#45;&gt;2 -->\n",
       "<g id=\"edge2\" class=\"edge\">\n",
       "<title>1&#45;&gt;2</title>\n",
       "<path fill=\"none\" stroke=\"#000000\" d=\"M557.1867,-832.4971C526.4231,-818.8371 488.2358,-801.8808 453.058,-786.2608\"/>\n",
       "<polygon fill=\"#000000\" stroke=\"#000000\" points=\"454.2669,-782.9681 443.7069,-782.1087 451.4261,-789.3658 454.2669,-782.9681\"/>\n",
       "</g>\n",
       "<!-- 9 -->\n",
       "<g id=\"node10\" class=\"node\">\n",
       "<title>9</title>\n",
       "<path fill=\"#399de5\" fill-opacity=\"0.450980\" stroke=\"#000000\" d=\"M700,-782C700,-782 536,-782 536,-782 530,-782 524,-776 524,-770 524,-770 524,-711 524,-711 524,-705 530,-699 536,-699 536,-699 700,-699 700,-699 706,-699 712,-705 712,-711 712,-711 712,-770 712,-770 712,-776 706,-782 700,-782\"/>\n",
       "<text text-anchor=\"start\" x=\"532\" y=\"-766.8\" font-family=\"Helvetica,sans-Serif\" font-size=\"14.00\" fill=\"#000000\">uniformity_of_cell_size ≤ 1.5</text>\n",
       "<text text-anchor=\"start\" x=\"582.5\" y=\"-751.8\" font-family=\"Helvetica,sans-Serif\" font-size=\"14.00\" fill=\"#000000\">gini = 0.458</text>\n",
       "<text text-anchor=\"start\" x=\"577\" y=\"-736.8\" font-family=\"Helvetica,sans-Serif\" font-size=\"14.00\" fill=\"#000000\">samples = 31</text>\n",
       "<text text-anchor=\"start\" x=\"571\" y=\"-721.8\" font-family=\"Helvetica,sans-Serif\" font-size=\"14.00\" fill=\"#000000\">value = [11, 20]</text>\n",
       "<text text-anchor=\"start\" x=\"565\" y=\"-706.8\" font-family=\"Helvetica,sans-Serif\" font-size=\"14.00\" fill=\"#000000\">class = malignant</text>\n",
       "</g>\n",
       "<!-- 1&#45;&gt;9 -->\n",
       "<g id=\"edge9\" class=\"edge\">\n",
       "<title>1&#45;&gt;9</title>\n",
       "<path fill=\"none\" stroke=\"#000000\" d=\"M618,-817.8796C618,-809.6838 618,-800.9891 618,-792.5013\"/>\n",
       "<polygon fill=\"#000000\" stroke=\"#000000\" points=\"621.5001,-792.298 618,-782.2981 614.5001,-792.2981 621.5001,-792.298\"/>\n",
       "</g>\n",
       "<!-- 3 -->\n",
       "<g id=\"node4\" class=\"node\">\n",
       "<title>3</title>\n",
       "<path fill=\"#e58139\" fill-opacity=\"0.996078\" stroke=\"#000000\" d=\"M259,-663C259,-663 137,-663 137,-663 131,-663 125,-657 125,-651 125,-651 125,-592 125,-592 125,-586 131,-580 137,-580 137,-580 259,-580 259,-580 265,-580 271,-586 271,-592 271,-592 271,-651 271,-651 271,-657 265,-663 259,-663\"/>\n",
       "<text text-anchor=\"start\" x=\"133\" y=\"-647.8\" font-family=\"Helvetica,sans-Serif\" font-size=\"14.00\" fill=\"#000000\">normal_nucleoli ≤ 3.5</text>\n",
       "<text text-anchor=\"start\" x=\"162.5\" y=\"-632.8\" font-family=\"Helvetica,sans-Serif\" font-size=\"14.00\" fill=\"#000000\">gini = 0.007</text>\n",
       "<text text-anchor=\"start\" x=\"153\" y=\"-617.8\" font-family=\"Helvetica,sans-Serif\" font-size=\"14.00\" fill=\"#000000\">samples = 283</text>\n",
       "<text text-anchor=\"start\" x=\"151\" y=\"-602.8\" font-family=\"Helvetica,sans-Serif\" font-size=\"14.00\" fill=\"#000000\">value = [282, 1]</text>\n",
       "<text text-anchor=\"start\" x=\"154\" y=\"-587.8\" font-family=\"Helvetica,sans-Serif\" font-size=\"14.00\" fill=\"#000000\">class = benign</text>\n",
       "</g>\n",
       "<!-- 2&#45;&gt;3 -->\n",
       "<g id=\"edge3\" class=\"edge\">\n",
       "<title>2&#45;&gt;3</title>\n",
       "<path fill=\"none\" stroke=\"#000000\" d=\"M296.8378,-698.8796C284.6885,-689.368 271.6808,-679.1843 259.224,-669.432\"/>\n",
       "<polygon fill=\"#000000\" stroke=\"#000000\" points=\"261.1638,-666.5055 251.1322,-663.0969 256.8486,-672.0173 261.1638,-666.5055\"/>\n",
       "</g>\n",
       "<!-- 8 -->\n",
       "<g id=\"node9\" class=\"node\">\n",
       "<title>8</title>\n",
       "<path fill=\"#399de5\" stroke=\"#000000\" d=\"M399,-655.5C399,-655.5 301,-655.5 301,-655.5 295,-655.5 289,-649.5 289,-643.5 289,-643.5 289,-599.5 289,-599.5 289,-593.5 295,-587.5 301,-587.5 301,-587.5 399,-587.5 399,-587.5 405,-587.5 411,-593.5 411,-599.5 411,-599.5 411,-643.5 411,-643.5 411,-649.5 405,-655.5 399,-655.5\"/>\n",
       "<text text-anchor=\"start\" x=\"322\" y=\"-640.3\" font-family=\"Helvetica,sans-Serif\" font-size=\"14.00\" fill=\"#000000\">gini = 0.0</text>\n",
       "<text text-anchor=\"start\" x=\"312.5\" y=\"-625.3\" font-family=\"Helvetica,sans-Serif\" font-size=\"14.00\" fill=\"#000000\">samples = 1</text>\n",
       "<text text-anchor=\"start\" x=\"310.5\" y=\"-610.3\" font-family=\"Helvetica,sans-Serif\" font-size=\"14.00\" fill=\"#000000\">value = [0, 1]</text>\n",
       "<text text-anchor=\"start\" x=\"297\" y=\"-595.3\" font-family=\"Helvetica,sans-Serif\" font-size=\"14.00\" fill=\"#000000\">class = malignant</text>\n",
       "</g>\n",
       "<!-- 2&#45;&gt;8 -->\n",
       "<g id=\"edge8\" class=\"edge\">\n",
       "<title>2&#45;&gt;8</title>\n",
       "<path fill=\"none\" stroke=\"#000000\" d=\"M350,-698.8796C350,-688.2134 350,-676.7021 350,-665.9015\"/>\n",
       "<polygon fill=\"#000000\" stroke=\"#000000\" points=\"353.5001,-665.8149 350,-655.8149 346.5001,-665.815 353.5001,-665.8149\"/>\n",
       "</g>\n",
       "<!-- 4 -->\n",
       "<g id=\"node5\" class=\"node\">\n",
       "<title>4</title>\n",
       "<path fill=\"#e58139\" stroke=\"#000000\" d=\"M98,-536.5C98,-536.5 12,-536.5 12,-536.5 6,-536.5 0,-530.5 0,-524.5 0,-524.5 0,-480.5 0,-480.5 0,-474.5 6,-468.5 12,-468.5 12,-468.5 98,-468.5 98,-468.5 104,-468.5 110,-474.5 110,-480.5 110,-480.5 110,-524.5 110,-524.5 110,-530.5 104,-536.5 98,-536.5\"/>\n",
       "<text text-anchor=\"start\" x=\"27\" y=\"-521.3\" font-family=\"Helvetica,sans-Serif\" font-size=\"14.00\" fill=\"#000000\">gini = 0.0</text>\n",
       "<text text-anchor=\"start\" x=\"10\" y=\"-506.3\" font-family=\"Helvetica,sans-Serif\" font-size=\"14.00\" fill=\"#000000\">samples = 280</text>\n",
       "<text text-anchor=\"start\" x=\"8\" y=\"-491.3\" font-family=\"Helvetica,sans-Serif\" font-size=\"14.00\" fill=\"#000000\">value = [280, 0]</text>\n",
       "<text text-anchor=\"start\" x=\"11\" y=\"-476.3\" font-family=\"Helvetica,sans-Serif\" font-size=\"14.00\" fill=\"#000000\">class = benign</text>\n",
       "</g>\n",
       "<!-- 3&#45;&gt;4 -->\n",
       "<g id=\"edge4\" class=\"edge\">\n",
       "<title>3&#45;&gt;4</title>\n",
       "<path fill=\"none\" stroke=\"#000000\" d=\"M147.9855,-579.8796C133.7147,-568.0038 118.1849,-555.0804 103.9767,-543.2568\"/>\n",
       "<polygon fill=\"#000000\" stroke=\"#000000\" points=\"106.161,-540.5212 96.2356,-536.8149 101.6834,-545.9019 106.161,-540.5212\"/>\n",
       "</g>\n",
       "<!-- 5 -->\n",
       "<g id=\"node6\" class=\"node\">\n",
       "<title>5</title>\n",
       "<path fill=\"#e58139\" fill-opacity=\"0.498039\" stroke=\"#000000\" d=\"M262,-544C262,-544 140,-544 140,-544 134,-544 128,-538 128,-532 128,-532 128,-473 128,-473 128,-467 134,-461 140,-461 140,-461 262,-461 262,-461 268,-461 274,-467 274,-473 274,-473 274,-532 274,-532 274,-538 268,-544 262,-544\"/>\n",
       "<text text-anchor=\"start\" x=\"136\" y=\"-528.8\" font-family=\"Helvetica,sans-Serif\" font-size=\"14.00\" fill=\"#000000\">normal_nucleoli ≤ 5.0</text>\n",
       "<text text-anchor=\"start\" x=\"165.5\" y=\"-513.8\" font-family=\"Helvetica,sans-Serif\" font-size=\"14.00\" fill=\"#000000\">gini = 0.444</text>\n",
       "<text text-anchor=\"start\" x=\"163.5\" y=\"-498.8\" font-family=\"Helvetica,sans-Serif\" font-size=\"14.00\" fill=\"#000000\">samples = 3</text>\n",
       "<text text-anchor=\"start\" x=\"161.5\" y=\"-483.8\" font-family=\"Helvetica,sans-Serif\" font-size=\"14.00\" fill=\"#000000\">value = [2, 1]</text>\n",
       "<text text-anchor=\"start\" x=\"157\" y=\"-468.8\" font-family=\"Helvetica,sans-Serif\" font-size=\"14.00\" fill=\"#000000\">class = benign</text>\n",
       "</g>\n",
       "<!-- 3&#45;&gt;5 -->\n",
       "<g id=\"edge5\" class=\"edge\">\n",
       "<title>3&#45;&gt;5</title>\n",
       "<path fill=\"none\" stroke=\"#000000\" d=\"M199.0493,-579.8796C199.2559,-571.6838 199.4751,-562.9891 199.689,-554.5013\"/>\n",
       "<polygon fill=\"#000000\" stroke=\"#000000\" points=\"203.193,-554.3831 199.9463,-544.2981 196.1953,-554.2067 203.193,-554.3831\"/>\n",
       "</g>\n",
       "<!-- 6 -->\n",
       "<g id=\"node7\" class=\"node\">\n",
       "<title>6</title>\n",
       "<path fill=\"#399de5\" stroke=\"#000000\" d=\"M137,-417.5C137,-417.5 39,-417.5 39,-417.5 33,-417.5 27,-411.5 27,-405.5 27,-405.5 27,-361.5 27,-361.5 27,-355.5 33,-349.5 39,-349.5 39,-349.5 137,-349.5 137,-349.5 143,-349.5 149,-355.5 149,-361.5 149,-361.5 149,-405.5 149,-405.5 149,-411.5 143,-417.5 137,-417.5\"/>\n",
       "<text text-anchor=\"start\" x=\"60\" y=\"-402.3\" font-family=\"Helvetica,sans-Serif\" font-size=\"14.00\" fill=\"#000000\">gini = 0.0</text>\n",
       "<text text-anchor=\"start\" x=\"50.5\" y=\"-387.3\" font-family=\"Helvetica,sans-Serif\" font-size=\"14.00\" fill=\"#000000\">samples = 1</text>\n",
       "<text text-anchor=\"start\" x=\"48.5\" y=\"-372.3\" font-family=\"Helvetica,sans-Serif\" font-size=\"14.00\" fill=\"#000000\">value = [0, 1]</text>\n",
       "<text text-anchor=\"start\" x=\"35\" y=\"-357.3\" font-family=\"Helvetica,sans-Serif\" font-size=\"14.00\" fill=\"#000000\">class = malignant</text>\n",
       "</g>\n",
       "<!-- 5&#45;&gt;6 -->\n",
       "<g id=\"edge6\" class=\"edge\">\n",
       "<title>5&#45;&gt;6</title>\n",
       "<path fill=\"none\" stroke=\"#000000\" d=\"M161.4781,-460.8796C150.5143,-449.3337 138.6103,-436.7976 127.6399,-425.2446\"/>\n",
       "<polygon fill=\"#000000\" stroke=\"#000000\" points=\"130.0087,-422.6564 120.5848,-417.8149 124.9327,-427.4766 130.0087,-422.6564\"/>\n",
       "</g>\n",
       "<!-- 7 -->\n",
       "<g id=\"node8\" class=\"node\">\n",
       "<title>7</title>\n",
       "<path fill=\"#e58139\" stroke=\"#000000\" d=\"M259,-417.5C259,-417.5 179,-417.5 179,-417.5 173,-417.5 167,-411.5 167,-405.5 167,-405.5 167,-361.5 167,-361.5 167,-355.5 173,-349.5 179,-349.5 179,-349.5 259,-349.5 259,-349.5 265,-349.5 271,-355.5 271,-361.5 271,-361.5 271,-405.5 271,-405.5 271,-411.5 265,-417.5 259,-417.5\"/>\n",
       "<text text-anchor=\"start\" x=\"191\" y=\"-402.3\" font-family=\"Helvetica,sans-Serif\" font-size=\"14.00\" fill=\"#000000\">gini = 0.0</text>\n",
       "<text text-anchor=\"start\" x=\"181.5\" y=\"-387.3\" font-family=\"Helvetica,sans-Serif\" font-size=\"14.00\" fill=\"#000000\">samples = 2</text>\n",
       "<text text-anchor=\"start\" x=\"179.5\" y=\"-372.3\" font-family=\"Helvetica,sans-Serif\" font-size=\"14.00\" fill=\"#000000\">value = [2, 0]</text>\n",
       "<text text-anchor=\"start\" x=\"175\" y=\"-357.3\" font-family=\"Helvetica,sans-Serif\" font-size=\"14.00\" fill=\"#000000\">class = benign</text>\n",
       "</g>\n",
       "<!-- 5&#45;&gt;7 -->\n",
       "<g id=\"edge7\" class=\"edge\">\n",
       "<title>5&#45;&gt;7</title>\n",
       "<path fill=\"none\" stroke=\"#000000\" d=\"M207.2955,-460.8796C208.9089,-450.2134 210.6501,-438.7021 212.2838,-427.9015\"/>\n",
       "<polygon fill=\"#000000\" stroke=\"#000000\" points=\"215.7745,-428.226 213.8095,-417.8149 208.8532,-427.179 215.7745,-428.226\"/>\n",
       "</g>\n",
       "<!-- 10 -->\n",
       "<g id=\"node11\" class=\"node\">\n",
       "<title>10</title>\n",
       "<path fill=\"#e58139\" fill-opacity=\"0.666667\" stroke=\"#000000\" d=\"M561,-663C561,-663 441,-663 441,-663 435,-663 429,-657 429,-651 429,-651 429,-592 429,-592 429,-586 435,-580 441,-580 441,-580 561,-580 561,-580 567,-580 573,-586 573,-592 573,-592 573,-651 573,-651 573,-657 567,-663 561,-663\"/>\n",
       "<text text-anchor=\"start\" x=\"437\" y=\"-647.8\" font-family=\"Helvetica,sans-Serif\" font-size=\"14.00\" fill=\"#000000\">clump_tickness ≤ 3.5</text>\n",
       "<text text-anchor=\"start\" x=\"465.5\" y=\"-632.8\" font-family=\"Helvetica,sans-Serif\" font-size=\"14.00\" fill=\"#000000\">gini = 0.375</text>\n",
       "<text text-anchor=\"start\" x=\"460\" y=\"-617.8\" font-family=\"Helvetica,sans-Serif\" font-size=\"14.00\" fill=\"#000000\">samples = 12</text>\n",
       "<text text-anchor=\"start\" x=\"461.5\" y=\"-602.8\" font-family=\"Helvetica,sans-Serif\" font-size=\"14.00\" fill=\"#000000\">value = [9, 3]</text>\n",
       "<text text-anchor=\"start\" x=\"457\" y=\"-587.8\" font-family=\"Helvetica,sans-Serif\" font-size=\"14.00\" fill=\"#000000\">class = benign</text>\n",
       "</g>\n",
       "<!-- 9&#45;&gt;10 -->\n",
       "<g id=\"edge10\" class=\"edge\">\n",
       "<title>9&#45;&gt;10</title>\n",
       "<path fill=\"none\" stroke=\"#000000\" d=\"M577.0791,-698.8796C568.047,-689.6931 558.3987,-679.8798 549.1112,-670.4336\"/>\n",
       "<polygon fill=\"#000000\" stroke=\"#000000\" points=\"551.6023,-667.975 542.0956,-663.2981 546.6107,-672.8827 551.6023,-667.975\"/>\n",
       "</g>\n",
       "<!-- 15 -->\n",
       "<g id=\"node16\" class=\"node\">\n",
       "<title>15</title>\n",
       "<path fill=\"#399de5\" fill-opacity=\"0.882353\" stroke=\"#000000\" d=\"M721,-663C721,-663 623,-663 623,-663 617,-663 611,-657 611,-651 611,-651 611,-592 611,-592 611,-586 617,-580 623,-580 623,-580 721,-580 721,-580 727,-580 733,-586 733,-592 733,-592 733,-651 733,-651 733,-657 727,-663 721,-663\"/>\n",
       "<text text-anchor=\"start\" x=\"619.5\" y=\"-647.8\" font-family=\"Helvetica,sans-Serif\" font-size=\"14.00\" fill=\"#000000\">bare_nuclei ≤ 5.5</text>\n",
       "<text text-anchor=\"start\" x=\"636.5\" y=\"-632.8\" font-family=\"Helvetica,sans-Serif\" font-size=\"14.00\" fill=\"#000000\">gini = 0.188</text>\n",
       "<text text-anchor=\"start\" x=\"631\" y=\"-617.8\" font-family=\"Helvetica,sans-Serif\" font-size=\"14.00\" fill=\"#000000\">samples = 19</text>\n",
       "<text text-anchor=\"start\" x=\"629\" y=\"-602.8\" font-family=\"Helvetica,sans-Serif\" font-size=\"14.00\" fill=\"#000000\">value = [2, 17]</text>\n",
       "<text text-anchor=\"start\" x=\"619\" y=\"-587.8\" font-family=\"Helvetica,sans-Serif\" font-size=\"14.00\" fill=\"#000000\">class = malignant</text>\n",
       "</g>\n",
       "<!-- 9&#45;&gt;15 -->\n",
       "<g id=\"edge15\" class=\"edge\">\n",
       "<title>9&#45;&gt;15</title>\n",
       "<path fill=\"none\" stroke=\"#000000\" d=\"M636.8866,-698.8796C640.7283,-690.4136 644.8115,-681.4153 648.7834,-672.6626\"/>\n",
       "<polygon fill=\"#000000\" stroke=\"#000000\" points=\"652.0877,-673.8507 653.0328,-663.2981 645.7133,-670.9581 652.0877,-673.8507\"/>\n",
       "</g>\n",
       "<!-- 11 -->\n",
       "<g id=\"node12\" class=\"node\">\n",
       "<title>11</title>\n",
       "<path fill=\"#e58139\" stroke=\"#000000\" d=\"M386,-536.5C386,-536.5 306,-536.5 306,-536.5 300,-536.5 294,-530.5 294,-524.5 294,-524.5 294,-480.5 294,-480.5 294,-474.5 300,-468.5 306,-468.5 306,-468.5 386,-468.5 386,-468.5 392,-468.5 398,-474.5 398,-480.5 398,-480.5 398,-524.5 398,-524.5 398,-530.5 392,-536.5 386,-536.5\"/>\n",
       "<text text-anchor=\"start\" x=\"318\" y=\"-521.3\" font-family=\"Helvetica,sans-Serif\" font-size=\"14.00\" fill=\"#000000\">gini = 0.0</text>\n",
       "<text text-anchor=\"start\" x=\"308.5\" y=\"-506.3\" font-family=\"Helvetica,sans-Serif\" font-size=\"14.00\" fill=\"#000000\">samples = 8</text>\n",
       "<text text-anchor=\"start\" x=\"306.5\" y=\"-491.3\" font-family=\"Helvetica,sans-Serif\" font-size=\"14.00\" fill=\"#000000\">value = [8, 0]</text>\n",
       "<text text-anchor=\"start\" x=\"302\" y=\"-476.3\" font-family=\"Helvetica,sans-Serif\" font-size=\"14.00\" fill=\"#000000\">class = benign</text>\n",
       "</g>\n",
       "<!-- 10&#45;&gt;11 -->\n",
       "<g id=\"edge11\" class=\"edge\">\n",
       "<title>10&#45;&gt;11</title>\n",
       "<path fill=\"none\" stroke=\"#000000\" d=\"M446.7885,-579.8796C431.1769,-567.8938 414.1753,-554.841 398.6592,-542.9287\"/>\n",
       "<polygon fill=\"#000000\" stroke=\"#000000\" points=\"400.7593,-540.1285 390.6959,-536.8149 396.4965,-545.6808 400.7593,-540.1285\"/>\n",
       "</g>\n",
       "<!-- 12 -->\n",
       "<g id=\"node13\" class=\"node\">\n",
       "<title>12</title>\n",
       "<path fill=\"#399de5\" fill-opacity=\"0.666667\" stroke=\"#000000\" d=\"M570,-544C570,-544 428,-544 428,-544 422,-544 416,-538 416,-532 416,-532 416,-473 416,-473 416,-467 422,-461 428,-461 428,-461 570,-461 570,-461 576,-461 582,-467 582,-473 582,-473 582,-532 582,-532 582,-538 576,-544 570,-544\"/>\n",
       "<text text-anchor=\"start\" x=\"424\" y=\"-528.8\" font-family=\"Helvetica,sans-Serif\" font-size=\"14.00\" fill=\"#000000\">marginal_adhesion ≤ 8.0</text>\n",
       "<text text-anchor=\"start\" x=\"463.5\" y=\"-513.8\" font-family=\"Helvetica,sans-Serif\" font-size=\"14.00\" fill=\"#000000\">gini = 0.375</text>\n",
       "<text text-anchor=\"start\" x=\"461.5\" y=\"-498.8\" font-family=\"Helvetica,sans-Serif\" font-size=\"14.00\" fill=\"#000000\">samples = 4</text>\n",
       "<text text-anchor=\"start\" x=\"459.5\" y=\"-483.8\" font-family=\"Helvetica,sans-Serif\" font-size=\"14.00\" fill=\"#000000\">value = [1, 3]</text>\n",
       "<text text-anchor=\"start\" x=\"446\" y=\"-468.8\" font-family=\"Helvetica,sans-Serif\" font-size=\"14.00\" fill=\"#000000\">class = malignant</text>\n",
       "</g>\n",
       "<!-- 10&#45;&gt;12 -->\n",
       "<g id=\"edge12\" class=\"edge\">\n",
       "<title>10&#45;&gt;12</title>\n",
       "<path fill=\"none\" stroke=\"#000000\" d=\"M500.3005,-579.8796C500.1628,-571.6838 500.0166,-562.9891 499.874,-554.5013\"/>\n",
       "<polygon fill=\"#000000\" stroke=\"#000000\" points=\"503.3701,-554.2378 499.7025,-544.2981 496.3711,-554.3555 503.3701,-554.2378\"/>\n",
       "</g>\n",
       "<!-- 13 -->\n",
       "<g id=\"node14\" class=\"node\">\n",
       "<title>13</title>\n",
       "<path fill=\"#399de5\" stroke=\"#000000\" d=\"M420,-417.5C420,-417.5 322,-417.5 322,-417.5 316,-417.5 310,-411.5 310,-405.5 310,-405.5 310,-361.5 310,-361.5 310,-355.5 316,-349.5 322,-349.5 322,-349.5 420,-349.5 420,-349.5 426,-349.5 432,-355.5 432,-361.5 432,-361.5 432,-405.5 432,-405.5 432,-411.5 426,-417.5 420,-417.5\"/>\n",
       "<text text-anchor=\"start\" x=\"343\" y=\"-402.3\" font-family=\"Helvetica,sans-Serif\" font-size=\"14.00\" fill=\"#000000\">gini = 0.0</text>\n",
       "<text text-anchor=\"start\" x=\"333.5\" y=\"-387.3\" font-family=\"Helvetica,sans-Serif\" font-size=\"14.00\" fill=\"#000000\">samples = 3</text>\n",
       "<text text-anchor=\"start\" x=\"331.5\" y=\"-372.3\" font-family=\"Helvetica,sans-Serif\" font-size=\"14.00\" fill=\"#000000\">value = [0, 3]</text>\n",
       "<text text-anchor=\"start\" x=\"318\" y=\"-357.3\" font-family=\"Helvetica,sans-Serif\" font-size=\"14.00\" fill=\"#000000\">class = malignant</text>\n",
       "</g>\n",
       "<!-- 12&#45;&gt;13 -->\n",
       "<g id=\"edge13\" class=\"edge\">\n",
       "<title>12&#45;&gt;13</title>\n",
       "<path fill=\"none\" stroke=\"#000000\" d=\"M454.2318,-460.8796C441.6944,-449.2237 428.0716,-436.5587 415.547,-424.9148\"/>\n",
       "<polygon fill=\"#000000\" stroke=\"#000000\" points=\"417.6172,-422.0605 407.9102,-417.8149 412.8509,-427.1872 417.6172,-422.0605\"/>\n",
       "</g>\n",
       "<!-- 14 -->\n",
       "<g id=\"node15\" class=\"node\">\n",
       "<title>14</title>\n",
       "<path fill=\"#e58139\" stroke=\"#000000\" d=\"M542,-417.5C542,-417.5 462,-417.5 462,-417.5 456,-417.5 450,-411.5 450,-405.5 450,-405.5 450,-361.5 450,-361.5 450,-355.5 456,-349.5 462,-349.5 462,-349.5 542,-349.5 542,-349.5 548,-349.5 554,-355.5 554,-361.5 554,-361.5 554,-405.5 554,-405.5 554,-411.5 548,-417.5 542,-417.5\"/>\n",
       "<text text-anchor=\"start\" x=\"474\" y=\"-402.3\" font-family=\"Helvetica,sans-Serif\" font-size=\"14.00\" fill=\"#000000\">gini = 0.0</text>\n",
       "<text text-anchor=\"start\" x=\"464.5\" y=\"-387.3\" font-family=\"Helvetica,sans-Serif\" font-size=\"14.00\" fill=\"#000000\">samples = 1</text>\n",
       "<text text-anchor=\"start\" x=\"462.5\" y=\"-372.3\" font-family=\"Helvetica,sans-Serif\" font-size=\"14.00\" fill=\"#000000\">value = [1, 0]</text>\n",
       "<text text-anchor=\"start\" x=\"458\" y=\"-357.3\" font-family=\"Helvetica,sans-Serif\" font-size=\"14.00\" fill=\"#000000\">class = benign</text>\n",
       "</g>\n",
       "<!-- 12&#45;&gt;14 -->\n",
       "<g id=\"edge14\" class=\"edge\">\n",
       "<title>12&#45;&gt;14</title>\n",
       "<path fill=\"none\" stroke=\"#000000\" d=\"M500.0493,-460.8796C500.3182,-450.2134 500.6084,-438.7021 500.8806,-427.9015\"/>\n",
       "<polygon fill=\"#000000\" stroke=\"#000000\" points=\"504.3817,-427.9 501.1349,-417.8149 497.3839,-427.7235 504.3817,-427.9\"/>\n",
       "</g>\n",
       "<!-- 16 -->\n",
       "<g id=\"node17\" class=\"node\">\n",
       "<title>16</title>\n",
       "<path fill=\"#399de5\" fill-opacity=\"0.600000\" stroke=\"#000000\" d=\"M732,-544C732,-544 612,-544 612,-544 606,-544 600,-538 600,-532 600,-532 600,-473 600,-473 600,-467 606,-461 612,-461 612,-461 732,-461 732,-461 738,-461 744,-467 744,-473 744,-473 744,-532 744,-532 744,-538 738,-544 732,-544\"/>\n",
       "<text text-anchor=\"start\" x=\"608\" y=\"-528.8\" font-family=\"Helvetica,sans-Serif\" font-size=\"14.00\" fill=\"#000000\">clump_tickness ≤ 5.5</text>\n",
       "<text text-anchor=\"start\" x=\"636.5\" y=\"-513.8\" font-family=\"Helvetica,sans-Serif\" font-size=\"14.00\" fill=\"#000000\">gini = 0.408</text>\n",
       "<text text-anchor=\"start\" x=\"634.5\" y=\"-498.8\" font-family=\"Helvetica,sans-Serif\" font-size=\"14.00\" fill=\"#000000\">samples = 7</text>\n",
       "<text text-anchor=\"start\" x=\"632.5\" y=\"-483.8\" font-family=\"Helvetica,sans-Serif\" font-size=\"14.00\" fill=\"#000000\">value = [2, 5]</text>\n",
       "<text text-anchor=\"start\" x=\"619\" y=\"-468.8\" font-family=\"Helvetica,sans-Serif\" font-size=\"14.00\" fill=\"#000000\">class = malignant</text>\n",
       "</g>\n",
       "<!-- 15&#45;&gt;16 -->\n",
       "<g id=\"edge16\" class=\"edge\">\n",
       "<title>15&#45;&gt;16</title>\n",
       "<path fill=\"none\" stroke=\"#000000\" d=\"M672,-579.8796C672,-571.6838 672,-562.9891 672,-554.5013\"/>\n",
       "<polygon fill=\"#000000\" stroke=\"#000000\" points=\"675.5001,-554.298 672,-544.2981 668.5001,-554.2981 675.5001,-554.298\"/>\n",
       "</g>\n",
       "<!-- 23 -->\n",
       "<g id=\"node24\" class=\"node\">\n",
       "<title>23</title>\n",
       "<path fill=\"#399de5\" stroke=\"#000000\" d=\"M872,-536.5C872,-536.5 774,-536.5 774,-536.5 768,-536.5 762,-530.5 762,-524.5 762,-524.5 762,-480.5 762,-480.5 762,-474.5 768,-468.5 774,-468.5 774,-468.5 872,-468.5 872,-468.5 878,-468.5 884,-474.5 884,-480.5 884,-480.5 884,-524.5 884,-524.5 884,-530.5 878,-536.5 872,-536.5\"/>\n",
       "<text text-anchor=\"start\" x=\"795\" y=\"-521.3\" font-family=\"Helvetica,sans-Serif\" font-size=\"14.00\" fill=\"#000000\">gini = 0.0</text>\n",
       "<text text-anchor=\"start\" x=\"782\" y=\"-506.3\" font-family=\"Helvetica,sans-Serif\" font-size=\"14.00\" fill=\"#000000\">samples = 12</text>\n",
       "<text text-anchor=\"start\" x=\"780\" y=\"-491.3\" font-family=\"Helvetica,sans-Serif\" font-size=\"14.00\" fill=\"#000000\">value = [0, 12]</text>\n",
       "<text text-anchor=\"start\" x=\"770\" y=\"-476.3\" font-family=\"Helvetica,sans-Serif\" font-size=\"14.00\" fill=\"#000000\">class = malignant</text>\n",
       "</g>\n",
       "<!-- 15&#45;&gt;23 -->\n",
       "<g id=\"edge23\" class=\"edge\">\n",
       "<title>15&#45;&gt;23</title>\n",
       "<path fill=\"none\" stroke=\"#000000\" d=\"M724.8125,-579.8796C739.8817,-568.0038 756.2803,-555.0804 771.2834,-543.2568\"/>\n",
       "<polygon fill=\"#000000\" stroke=\"#000000\" points=\"773.7698,-545.7536 779.4575,-536.8149 769.4369,-540.2557 773.7698,-545.7536\"/>\n",
       "</g>\n",
       "<!-- 17 -->\n",
       "<g id=\"node18\" class=\"node\">\n",
       "<title>17</title>\n",
       "<path fill=\"#e58139\" fill-opacity=\"0.498039\" stroke=\"#000000\" d=\"M752,-425C752,-425 588,-425 588,-425 582,-425 576,-419 576,-413 576,-413 576,-354 576,-354 576,-348 582,-342 588,-342 588,-342 752,-342 752,-342 758,-342 764,-348 764,-354 764,-354 764,-413 764,-413 764,-419 758,-425 752,-425\"/>\n",
       "<text text-anchor=\"start\" x=\"584\" y=\"-409.8\" font-family=\"Helvetica,sans-Serif\" font-size=\"14.00\" fill=\"#000000\">uniformity_of_cell_size ≤ 2.5</text>\n",
       "<text text-anchor=\"start\" x=\"634.5\" y=\"-394.8\" font-family=\"Helvetica,sans-Serif\" font-size=\"14.00\" fill=\"#000000\">gini = 0.444</text>\n",
       "<text text-anchor=\"start\" x=\"632.5\" y=\"-379.8\" font-family=\"Helvetica,sans-Serif\" font-size=\"14.00\" fill=\"#000000\">samples = 3</text>\n",
       "<text text-anchor=\"start\" x=\"630.5\" y=\"-364.8\" font-family=\"Helvetica,sans-Serif\" font-size=\"14.00\" fill=\"#000000\">value = [2, 1]</text>\n",
       "<text text-anchor=\"start\" x=\"626\" y=\"-349.8\" font-family=\"Helvetica,sans-Serif\" font-size=\"14.00\" fill=\"#000000\">class = benign</text>\n",
       "</g>\n",
       "<!-- 16&#45;&gt;17 -->\n",
       "<g id=\"edge17\" class=\"edge\">\n",
       "<title>16&#45;&gt;17</title>\n",
       "<path fill=\"none\" stroke=\"#000000\" d=\"M671.3005,-460.8796C671.1628,-452.6838 671.0166,-443.9891 670.874,-435.5013\"/>\n",
       "<polygon fill=\"#000000\" stroke=\"#000000\" points=\"674.3701,-435.2378 670.7025,-425.2981 667.3711,-435.3555 674.3701,-435.2378\"/>\n",
       "</g>\n",
       "<!-- 22 -->\n",
       "<g id=\"node23\" class=\"node\">\n",
       "<title>22</title>\n",
       "<path fill=\"#399de5\" stroke=\"#000000\" d=\"M892,-417.5C892,-417.5 794,-417.5 794,-417.5 788,-417.5 782,-411.5 782,-405.5 782,-405.5 782,-361.5 782,-361.5 782,-355.5 788,-349.5 794,-349.5 794,-349.5 892,-349.5 892,-349.5 898,-349.5 904,-355.5 904,-361.5 904,-361.5 904,-405.5 904,-405.5 904,-411.5 898,-417.5 892,-417.5\"/>\n",
       "<text text-anchor=\"start\" x=\"815\" y=\"-402.3\" font-family=\"Helvetica,sans-Serif\" font-size=\"14.00\" fill=\"#000000\">gini = 0.0</text>\n",
       "<text text-anchor=\"start\" x=\"805.5\" y=\"-387.3\" font-family=\"Helvetica,sans-Serif\" font-size=\"14.00\" fill=\"#000000\">samples = 4</text>\n",
       "<text text-anchor=\"start\" x=\"803.5\" y=\"-372.3\" font-family=\"Helvetica,sans-Serif\" font-size=\"14.00\" fill=\"#000000\">value = [0, 4]</text>\n",
       "<text text-anchor=\"start\" x=\"790\" y=\"-357.3\" font-family=\"Helvetica,sans-Serif\" font-size=\"14.00\" fill=\"#000000\">class = malignant</text>\n",
       "</g>\n",
       "<!-- 16&#45;&gt;22 -->\n",
       "<g id=\"edge22\" class=\"edge\">\n",
       "<title>16&#45;&gt;22</title>\n",
       "<path fill=\"none\" stroke=\"#000000\" d=\"M731.8075,-460.8796C749.2715,-448.7263 768.312,-435.4759 785.622,-423.4297\"/>\n",
       "<polygon fill=\"#000000\" stroke=\"#000000\" points=\"787.7572,-426.208 793.9661,-417.623 783.7587,-420.4623 787.7572,-426.208\"/>\n",
       "</g>\n",
       "<!-- 18 -->\n",
       "<g id=\"node19\" class=\"node\">\n",
       "<title>18</title>\n",
       "<path fill=\"#e58139\" stroke=\"#000000\" d=\"M577,-298.5C577,-298.5 497,-298.5 497,-298.5 491,-298.5 485,-292.5 485,-286.5 485,-286.5 485,-242.5 485,-242.5 485,-236.5 491,-230.5 497,-230.5 497,-230.5 577,-230.5 577,-230.5 583,-230.5 589,-236.5 589,-242.5 589,-242.5 589,-286.5 589,-286.5 589,-292.5 583,-298.5 577,-298.5\"/>\n",
       "<text text-anchor=\"start\" x=\"509\" y=\"-283.3\" font-family=\"Helvetica,sans-Serif\" font-size=\"14.00\" fill=\"#000000\">gini = 0.0</text>\n",
       "<text text-anchor=\"start\" x=\"499.5\" y=\"-268.3\" font-family=\"Helvetica,sans-Serif\" font-size=\"14.00\" fill=\"#000000\">samples = 1</text>\n",
       "<text text-anchor=\"start\" x=\"497.5\" y=\"-253.3\" font-family=\"Helvetica,sans-Serif\" font-size=\"14.00\" fill=\"#000000\">value = [1, 0]</text>\n",
       "<text text-anchor=\"start\" x=\"493\" y=\"-238.3\" font-family=\"Helvetica,sans-Serif\" font-size=\"14.00\" fill=\"#000000\">class = benign</text>\n",
       "</g>\n",
       "<!-- 17&#45;&gt;18 -->\n",
       "<g id=\"edge18\" class=\"edge\">\n",
       "<title>17&#45;&gt;18</title>\n",
       "<path fill=\"none\" stroke=\"#000000\" d=\"M623.4831,-341.8796C610.333,-330.1138 596.0337,-317.3197 582.9191,-305.5855\"/>\n",
       "<polygon fill=\"#000000\" stroke=\"#000000\" points=\"585.1382,-302.8746 575.352,-298.8149 580.4706,-308.0913 585.1382,-302.8746\"/>\n",
       "</g>\n",
       "<!-- 19 -->\n",
       "<g id=\"node20\" class=\"node\">\n",
       "<title>19</title>\n",
       "<path fill=\"transparent\" stroke=\"#000000\" d=\"M747,-306C747,-306 619,-306 619,-306 613,-306 607,-300 607,-294 607,-294 607,-235 607,-235 607,-229 613,-223 619,-223 619,-223 747,-223 747,-223 753,-223 759,-229 759,-235 759,-235 759,-294 759,-294 759,-300 753,-306 747,-306\"/>\n",
       "<text text-anchor=\"start\" x=\"615\" y=\"-290.8\" font-family=\"Helvetica,sans-Serif\" font-size=\"14.00\" fill=\"#000000\">bland_chromatin ≤ 3.5</text>\n",
       "<text text-anchor=\"start\" x=\"655\" y=\"-275.8\" font-family=\"Helvetica,sans-Serif\" font-size=\"14.00\" fill=\"#000000\">gini = 0.5</text>\n",
       "<text text-anchor=\"start\" x=\"645.5\" y=\"-260.8\" font-family=\"Helvetica,sans-Serif\" font-size=\"14.00\" fill=\"#000000\">samples = 2</text>\n",
       "<text text-anchor=\"start\" x=\"643.5\" y=\"-245.8\" font-family=\"Helvetica,sans-Serif\" font-size=\"14.00\" fill=\"#000000\">value = [1, 1]</text>\n",
       "<text text-anchor=\"start\" x=\"639\" y=\"-230.8\" font-family=\"Helvetica,sans-Serif\" font-size=\"14.00\" fill=\"#000000\">class = benign</text>\n",
       "</g>\n",
       "<!-- 17&#45;&gt;19 -->\n",
       "<g id=\"edge19\" class=\"edge\">\n",
       "<title>17&#45;&gt;19</title>\n",
       "<path fill=\"none\" stroke=\"#000000\" d=\"M674.5468,-341.8796C675.4421,-333.6838 676.3919,-324.9891 677.3192,-316.5013\"/>\n",
       "<polygon fill=\"#000000\" stroke=\"#000000\" points=\"680.8271,-316.6191 678.4338,-306.2981 673.8685,-315.8588 680.8271,-316.6191\"/>\n",
       "</g>\n",
       "<!-- 20 -->\n",
       "<g id=\"node21\" class=\"node\">\n",
       "<title>20</title>\n",
       "<path fill=\"#399de5\" stroke=\"#000000\" d=\"M667,-179.5C667,-179.5 569,-179.5 569,-179.5 563,-179.5 557,-173.5 557,-167.5 557,-167.5 557,-123.5 557,-123.5 557,-117.5 563,-111.5 569,-111.5 569,-111.5 667,-111.5 667,-111.5 673,-111.5 679,-117.5 679,-123.5 679,-123.5 679,-167.5 679,-167.5 679,-173.5 673,-179.5 667,-179.5\"/>\n",
       "<text text-anchor=\"start\" x=\"590\" y=\"-164.3\" font-family=\"Helvetica,sans-Serif\" font-size=\"14.00\" fill=\"#000000\">gini = 0.0</text>\n",
       "<text text-anchor=\"start\" x=\"580.5\" y=\"-149.3\" font-family=\"Helvetica,sans-Serif\" font-size=\"14.00\" fill=\"#000000\">samples = 1</text>\n",
       "<text text-anchor=\"start\" x=\"578.5\" y=\"-134.3\" font-family=\"Helvetica,sans-Serif\" font-size=\"14.00\" fill=\"#000000\">value = [0, 1]</text>\n",
       "<text text-anchor=\"start\" x=\"565\" y=\"-119.3\" font-family=\"Helvetica,sans-Serif\" font-size=\"14.00\" fill=\"#000000\">class = malignant</text>\n",
       "</g>\n",
       "<!-- 19&#45;&gt;20 -->\n",
       "<g id=\"edge20\" class=\"edge\">\n",
       "<title>19&#45;&gt;20</title>\n",
       "<path fill=\"none\" stroke=\"#000000\" d=\"M660.2662,-222.8796C654.2599,-211.8835 647.763,-199.9893 641.7067,-188.9015\"/>\n",
       "<polygon fill=\"#000000\" stroke=\"#000000\" points=\"644.6088,-186.9133 636.7435,-179.8149 638.4655,-190.2689 644.6088,-186.9133\"/>\n",
       "</g>\n",
       "<!-- 21 -->\n",
       "<g id=\"node22\" class=\"node\">\n",
       "<title>21</title>\n",
       "<path fill=\"#e58139\" stroke=\"#000000\" d=\"M789,-179.5C789,-179.5 709,-179.5 709,-179.5 703,-179.5 697,-173.5 697,-167.5 697,-167.5 697,-123.5 697,-123.5 697,-117.5 703,-111.5 709,-111.5 709,-111.5 789,-111.5 789,-111.5 795,-111.5 801,-117.5 801,-123.5 801,-123.5 801,-167.5 801,-167.5 801,-173.5 795,-179.5 789,-179.5\"/>\n",
       "<text text-anchor=\"start\" x=\"721\" y=\"-164.3\" font-family=\"Helvetica,sans-Serif\" font-size=\"14.00\" fill=\"#000000\">gini = 0.0</text>\n",
       "<text text-anchor=\"start\" x=\"711.5\" y=\"-149.3\" font-family=\"Helvetica,sans-Serif\" font-size=\"14.00\" fill=\"#000000\">samples = 1</text>\n",
       "<text text-anchor=\"start\" x=\"709.5\" y=\"-134.3\" font-family=\"Helvetica,sans-Serif\" font-size=\"14.00\" fill=\"#000000\">value = [1, 0]</text>\n",
       "<text text-anchor=\"start\" x=\"705\" y=\"-119.3\" font-family=\"Helvetica,sans-Serif\" font-size=\"14.00\" fill=\"#000000\">class = benign</text>\n",
       "</g>\n",
       "<!-- 19&#45;&gt;21 -->\n",
       "<g id=\"edge21\" class=\"edge\">\n",
       "<title>19&#45;&gt;21</title>\n",
       "<path fill=\"none\" stroke=\"#000000\" d=\"M706.0836,-222.8796C712.2433,-211.7735 718.9111,-199.7513 725.1129,-188.5691\"/>\n",
       "<polygon fill=\"#000000\" stroke=\"#000000\" points=\"728.1787,-190.2576 729.9682,-179.8149 722.0572,-186.8624 728.1787,-190.2576\"/>\n",
       "</g>\n",
       "<!-- 25 -->\n",
       "<g id=\"node26\" class=\"node\">\n",
       "<title>25</title>\n",
       "<path fill=\"#399de5\" fill-opacity=\"0.694118\" stroke=\"#000000\" d=\"M1193,-782C1193,-782 1071,-782 1071,-782 1065,-782 1059,-776 1059,-770 1059,-770 1059,-711 1059,-711 1059,-705 1065,-699 1071,-699 1071,-699 1193,-699 1193,-699 1199,-699 1205,-705 1205,-711 1205,-711 1205,-770 1205,-770 1205,-776 1199,-782 1193,-782\"/>\n",
       "<text text-anchor=\"start\" x=\"1067\" y=\"-766.8\" font-family=\"Helvetica,sans-Serif\" font-size=\"14.00\" fill=\"#000000\">single_cell_size ≤ 6.5</text>\n",
       "<text text-anchor=\"start\" x=\"1100\" y=\"-751.8\" font-family=\"Helvetica,sans-Serif\" font-size=\"14.00\" fill=\"#000000\">gini = 0.36</text>\n",
       "<text text-anchor=\"start\" x=\"1091\" y=\"-736.8\" font-family=\"Helvetica,sans-Serif\" font-size=\"14.00\" fill=\"#000000\">samples = 34</text>\n",
       "<text text-anchor=\"start\" x=\"1089\" y=\"-721.8\" font-family=\"Helvetica,sans-Serif\" font-size=\"14.00\" fill=\"#000000\">value = [8, 26]</text>\n",
       "<text text-anchor=\"start\" x=\"1079\" y=\"-706.8\" font-family=\"Helvetica,sans-Serif\" font-size=\"14.00\" fill=\"#000000\">class = malignant</text>\n",
       "</g>\n",
       "<!-- 24&#45;&gt;25 -->\n",
       "<g id=\"edge25\" class=\"edge\">\n",
       "<title>24&#45;&gt;25</title>\n",
       "<path fill=\"none\" stroke=\"#000000\" d=\"M1132,-817.8796C1132,-809.6838 1132,-800.9891 1132,-792.5013\"/>\n",
       "<polygon fill=\"#000000\" stroke=\"#000000\" points=\"1135.5001,-792.298 1132,-782.2981 1128.5001,-792.2981 1135.5001,-792.298\"/>\n",
       "</g>\n",
       "<!-- 40 -->\n",
       "<g id=\"node41\" class=\"node\">\n",
       "<title>40</title>\n",
       "<path fill=\"#399de5\" fill-opacity=\"0.984314\" stroke=\"#000000\" d=\"M1440,-782C1440,-782 1298,-782 1298,-782 1292,-782 1286,-776 1286,-770 1286,-770 1286,-711 1286,-711 1286,-705 1292,-699 1298,-699 1298,-699 1440,-699 1440,-699 1446,-699 1452,-705 1452,-711 1452,-711 1452,-770 1452,-770 1452,-776 1446,-782 1440,-782\"/>\n",
       "<text text-anchor=\"start\" x=\"1294\" y=\"-766.8\" font-family=\"Helvetica,sans-Serif\" font-size=\"14.00\" fill=\"#000000\">marginal_adhesion ≤ 1.5</text>\n",
       "<text text-anchor=\"start\" x=\"1333.5\" y=\"-751.8\" font-family=\"Helvetica,sans-Serif\" font-size=\"14.00\" fill=\"#000000\">gini = 0.031</text>\n",
       "<text text-anchor=\"start\" x=\"1324\" y=\"-736.8\" font-family=\"Helvetica,sans-Serif\" font-size=\"14.00\" fill=\"#000000\">samples = 128</text>\n",
       "<text text-anchor=\"start\" x=\"1322\" y=\"-721.8\" font-family=\"Helvetica,sans-Serif\" font-size=\"14.00\" fill=\"#000000\">value = [2, 126]</text>\n",
       "<text text-anchor=\"start\" x=\"1316\" y=\"-706.8\" font-family=\"Helvetica,sans-Serif\" font-size=\"14.00\" fill=\"#000000\">class = malignant</text>\n",
       "</g>\n",
       "<!-- 24&#45;&gt;40 -->\n",
       "<g id=\"edge40\" class=\"edge\">\n",
       "<title>24&#45;&gt;40</title>\n",
       "<path fill=\"none\" stroke=\"#000000\" d=\"M1214.8911,-817.8796C1235.0071,-807.7791 1256.6323,-796.9209 1277.1356,-786.626\"/>\n",
       "<polygon fill=\"#000000\" stroke=\"#000000\" points=\"1278.7895,-789.712 1286.1557,-782.0969 1275.6484,-783.4563 1278.7895,-789.712\"/>\n",
       "</g>\n",
       "<!-- 26 -->\n",
       "<g id=\"node27\" class=\"node\">\n",
       "<title>26</title>\n",
       "<path fill=\"#399de5\" fill-opacity=\"0.807843\" stroke=\"#000000\" d=\"M1118,-663C1118,-663 1020,-663 1020,-663 1014,-663 1008,-657 1008,-651 1008,-651 1008,-592 1008,-592 1008,-586 1014,-580 1020,-580 1020,-580 1118,-580 1118,-580 1124,-580 1130,-586 1130,-592 1130,-592 1130,-651 1130,-651 1130,-657 1124,-663 1118,-663\"/>\n",
       "<text text-anchor=\"start\" x=\"1016.5\" y=\"-647.8\" font-family=\"Helvetica,sans-Serif\" font-size=\"14.00\" fill=\"#000000\">bare_nuclei ≤ 7.5</text>\n",
       "<text text-anchor=\"start\" x=\"1033.5\" y=\"-632.8\" font-family=\"Helvetica,sans-Serif\" font-size=\"14.00\" fill=\"#000000\">gini = 0.271</text>\n",
       "<text text-anchor=\"start\" x=\"1028\" y=\"-617.8\" font-family=\"Helvetica,sans-Serif\" font-size=\"14.00\" fill=\"#000000\">samples = 31</text>\n",
       "<text text-anchor=\"start\" x=\"1026\" y=\"-602.8\" font-family=\"Helvetica,sans-Serif\" font-size=\"14.00\" fill=\"#000000\">value = [5, 26]</text>\n",
       "<text text-anchor=\"start\" x=\"1016\" y=\"-587.8\" font-family=\"Helvetica,sans-Serif\" font-size=\"14.00\" fill=\"#000000\">class = malignant</text>\n",
       "</g>\n",
       "<!-- 25&#45;&gt;26 -->\n",
       "<g id=\"edge26\" class=\"edge\">\n",
       "<title>25&#45;&gt;26</title>\n",
       "<path fill=\"none\" stroke=\"#000000\" d=\"M1109.9657,-698.8796C1105.436,-690.3236 1100.6185,-681.2238 1095.9382,-672.3833\"/>\n",
       "<polygon fill=\"#000000\" stroke=\"#000000\" points=\"1098.9006,-670.4983 1091.1284,-663.2981 1092.7141,-673.7736 1098.9006,-670.4983\"/>\n",
       "</g>\n",
       "<!-- 39 -->\n",
       "<g id=\"node40\" class=\"node\">\n",
       "<title>39</title>\n",
       "<path fill=\"#e58139\" stroke=\"#000000\" d=\"M1240,-655.5C1240,-655.5 1160,-655.5 1160,-655.5 1154,-655.5 1148,-649.5 1148,-643.5 1148,-643.5 1148,-599.5 1148,-599.5 1148,-593.5 1154,-587.5 1160,-587.5 1160,-587.5 1240,-587.5 1240,-587.5 1246,-587.5 1252,-593.5 1252,-599.5 1252,-599.5 1252,-643.5 1252,-643.5 1252,-649.5 1246,-655.5 1240,-655.5\"/>\n",
       "<text text-anchor=\"start\" x=\"1172\" y=\"-640.3\" font-family=\"Helvetica,sans-Serif\" font-size=\"14.00\" fill=\"#000000\">gini = 0.0</text>\n",
       "<text text-anchor=\"start\" x=\"1162.5\" y=\"-625.3\" font-family=\"Helvetica,sans-Serif\" font-size=\"14.00\" fill=\"#000000\">samples = 3</text>\n",
       "<text text-anchor=\"start\" x=\"1160.5\" y=\"-610.3\" font-family=\"Helvetica,sans-Serif\" font-size=\"14.00\" fill=\"#000000\">value = [3, 0]</text>\n",
       "<text text-anchor=\"start\" x=\"1156\" y=\"-595.3\" font-family=\"Helvetica,sans-Serif\" font-size=\"14.00\" fill=\"#000000\">class = benign</text>\n",
       "</g>\n",
       "<!-- 25&#45;&gt;39 -->\n",
       "<g id=\"edge39\" class=\"edge\">\n",
       "<title>25&#45;&gt;39</title>\n",
       "<path fill=\"none\" stroke=\"#000000\" d=\"M1155.7831,-698.8796C1162.1294,-687.7735 1168.9993,-675.7513 1175.3891,-664.5691\"/>\n",
       "<polygon fill=\"#000000\" stroke=\"#000000\" points=\"1178.4689,-666.2339 1180.3915,-655.8149 1172.3912,-662.7609 1178.4689,-666.2339\"/>\n",
       "</g>\n",
       "<!-- 27 -->\n",
       "<g id=\"node28\" class=\"node\">\n",
       "<title>27</title>\n",
       "<path fill=\"#399de5\" fill-opacity=\"0.376471\" stroke=\"#000000\" d=\"M1042,-544C1042,-544 914,-544 914,-544 908,-544 902,-538 902,-532 902,-532 902,-473 902,-473 902,-467 908,-461 914,-461 914,-461 1042,-461 1042,-461 1048,-461 1054,-467 1054,-473 1054,-473 1054,-532 1054,-532 1054,-538 1048,-544 1042,-544\"/>\n",
       "<text text-anchor=\"start\" x=\"910\" y=\"-528.8\" font-family=\"Helvetica,sans-Serif\" font-size=\"14.00\" fill=\"#000000\">bland_chromatin ≤ 2.5</text>\n",
       "<text text-anchor=\"start\" x=\"942.5\" y=\"-513.8\" font-family=\"Helvetica,sans-Serif\" font-size=\"14.00\" fill=\"#000000\">gini = 0.473</text>\n",
       "<text text-anchor=\"start\" x=\"937\" y=\"-498.8\" font-family=\"Helvetica,sans-Serif\" font-size=\"14.00\" fill=\"#000000\">samples = 13</text>\n",
       "<text text-anchor=\"start\" x=\"938.5\" y=\"-483.8\" font-family=\"Helvetica,sans-Serif\" font-size=\"14.00\" fill=\"#000000\">value = [5, 8]</text>\n",
       "<text text-anchor=\"start\" x=\"925\" y=\"-468.8\" font-family=\"Helvetica,sans-Serif\" font-size=\"14.00\" fill=\"#000000\">class = malignant</text>\n",
       "</g>\n",
       "<!-- 26&#45;&gt;27 -->\n",
       "<g id=\"edge27\" class=\"edge\">\n",
       "<title>26&#45;&gt;27</title>\n",
       "<path fill=\"none\" stroke=\"#000000\" d=\"M1037.1726,-579.8796C1030.3543,-570.9633 1023.0844,-561.4565 1016.0579,-552.268\"/>\n",
       "<polygon fill=\"#000000\" stroke=\"#000000\" points=\"1018.818,-550.1156 1009.9632,-544.2981 1013.2575,-554.3678 1018.818,-550.1156\"/>\n",
       "</g>\n",
       "<!-- 38 -->\n",
       "<g id=\"node39\" class=\"node\">\n",
       "<title>38</title>\n",
       "<path fill=\"#399de5\" stroke=\"#000000\" d=\"M1182,-536.5C1182,-536.5 1084,-536.5 1084,-536.5 1078,-536.5 1072,-530.5 1072,-524.5 1072,-524.5 1072,-480.5 1072,-480.5 1072,-474.5 1078,-468.5 1084,-468.5 1084,-468.5 1182,-468.5 1182,-468.5 1188,-468.5 1194,-474.5 1194,-480.5 1194,-480.5 1194,-524.5 1194,-524.5 1194,-530.5 1188,-536.5 1182,-536.5\"/>\n",
       "<text text-anchor=\"start\" x=\"1105\" y=\"-521.3\" font-family=\"Helvetica,sans-Serif\" font-size=\"14.00\" fill=\"#000000\">gini = 0.0</text>\n",
       "<text text-anchor=\"start\" x=\"1092\" y=\"-506.3\" font-family=\"Helvetica,sans-Serif\" font-size=\"14.00\" fill=\"#000000\">samples = 18</text>\n",
       "<text text-anchor=\"start\" x=\"1090\" y=\"-491.3\" font-family=\"Helvetica,sans-Serif\" font-size=\"14.00\" fill=\"#000000\">value = [0, 18]</text>\n",
       "<text text-anchor=\"start\" x=\"1080\" y=\"-476.3\" font-family=\"Helvetica,sans-Serif\" font-size=\"14.00\" fill=\"#000000\">class = malignant</text>\n",
       "</g>\n",
       "<!-- 26&#45;&gt;38 -->\n",
       "<g id=\"edge38\" class=\"edge\">\n",
       "<title>26&#45;&gt;38</title>\n",
       "<path fill=\"none\" stroke=\"#000000\" d=\"M1091.3841,-579.8796C1097.298,-568.8835 1103.6949,-556.9893 1109.658,-545.9015\"/>\n",
       "<polygon fill=\"#000000\" stroke=\"#000000\" points=\"1112.8908,-547.2799 1114.5449,-536.8149 1106.7258,-543.9642 1112.8908,-547.2799\"/>\n",
       "</g>\n",
       "<!-- 28 -->\n",
       "<g id=\"node29\" class=\"node\">\n",
       "<title>28</title>\n",
       "<path fill=\"#e58139\" stroke=\"#000000\" d=\"M1016,-417.5C1016,-417.5 936,-417.5 936,-417.5 930,-417.5 924,-411.5 924,-405.5 924,-405.5 924,-361.5 924,-361.5 924,-355.5 930,-349.5 936,-349.5 936,-349.5 1016,-349.5 1016,-349.5 1022,-349.5 1028,-355.5 1028,-361.5 1028,-361.5 1028,-405.5 1028,-405.5 1028,-411.5 1022,-417.5 1016,-417.5\"/>\n",
       "<text text-anchor=\"start\" x=\"948\" y=\"-402.3\" font-family=\"Helvetica,sans-Serif\" font-size=\"14.00\" fill=\"#000000\">gini = 0.0</text>\n",
       "<text text-anchor=\"start\" x=\"938.5\" y=\"-387.3\" font-family=\"Helvetica,sans-Serif\" font-size=\"14.00\" fill=\"#000000\">samples = 2</text>\n",
       "<text text-anchor=\"start\" x=\"936.5\" y=\"-372.3\" font-family=\"Helvetica,sans-Serif\" font-size=\"14.00\" fill=\"#000000\">value = [2, 0]</text>\n",
       "<text text-anchor=\"start\" x=\"932\" y=\"-357.3\" font-family=\"Helvetica,sans-Serif\" font-size=\"14.00\" fill=\"#000000\">class = benign</text>\n",
       "</g>\n",
       "<!-- 27&#45;&gt;28 -->\n",
       "<g id=\"edge28\" class=\"edge\">\n",
       "<title>27&#45;&gt;28</title>\n",
       "<path fill=\"none\" stroke=\"#000000\" d=\"M977.3005,-460.8796C977.1212,-450.2134 976.9278,-438.7021 976.7462,-427.9015\"/>\n",
       "<polygon fill=\"#000000\" stroke=\"#000000\" points=\"980.2444,-427.7547 976.5767,-417.8149 973.2454,-427.8724 980.2444,-427.7547\"/>\n",
       "</g>\n",
       "<!-- 29 -->\n",
       "<g id=\"node30\" class=\"node\">\n",
       "<title>29</title>\n",
       "<path fill=\"#399de5\" fill-opacity=\"0.623529\" stroke=\"#000000\" d=\"M1156,-425C1156,-425 1058,-425 1058,-425 1052,-425 1046,-419 1046,-413 1046,-413 1046,-354 1046,-354 1046,-348 1052,-342 1058,-342 1058,-342 1156,-342 1156,-342 1162,-342 1168,-348 1168,-354 1168,-354 1168,-413 1168,-413 1168,-419 1162,-425 1156,-425\"/>\n",
       "<text text-anchor=\"start\" x=\"1054.5\" y=\"-409.8\" font-family=\"Helvetica,sans-Serif\" font-size=\"14.00\" fill=\"#000000\">bare_nuclei ≤ 4.5</text>\n",
       "<text text-anchor=\"start\" x=\"1071.5\" y=\"-394.8\" font-family=\"Helvetica,sans-Serif\" font-size=\"14.00\" fill=\"#000000\">gini = 0.397</text>\n",
       "<text text-anchor=\"start\" x=\"1066\" y=\"-379.8\" font-family=\"Helvetica,sans-Serif\" font-size=\"14.00\" fill=\"#000000\">samples = 11</text>\n",
       "<text text-anchor=\"start\" x=\"1067.5\" y=\"-364.8\" font-family=\"Helvetica,sans-Serif\" font-size=\"14.00\" fill=\"#000000\">value = [3, 8]</text>\n",
       "<text text-anchor=\"start\" x=\"1054\" y=\"-349.8\" font-family=\"Helvetica,sans-Serif\" font-size=\"14.00\" fill=\"#000000\">class = malignant</text>\n",
       "</g>\n",
       "<!-- 27&#45;&gt;29 -->\n",
       "<g id=\"edge29\" class=\"edge\">\n",
       "<title>27&#45;&gt;29</title>\n",
       "<path fill=\"none\" stroke=\"#000000\" d=\"M1023.1179,-460.8796C1033.174,-451.6031 1043.923,-441.6874 1054.2554,-432.1559\"/>\n",
       "<polygon fill=\"#000000\" stroke=\"#000000\" points=\"1056.7124,-434.6511 1061.6895,-425.2981 1051.9661,-429.506 1056.7124,-434.6511\"/>\n",
       "</g>\n",
       "<!-- 30 -->\n",
       "<g id=\"node31\" class=\"node\">\n",
       "<title>30</title>\n",
       "<path fill=\"#399de5\" fill-opacity=\"0.831373\" stroke=\"#000000\" d=\"M1120,-306C1120,-306 998,-306 998,-306 992,-306 986,-300 986,-294 986,-294 986,-235 986,-235 986,-229 992,-223 998,-223 998,-223 1120,-223 1120,-223 1126,-223 1132,-229 1132,-235 1132,-235 1132,-294 1132,-294 1132,-300 1126,-306 1120,-306\"/>\n",
       "<text text-anchor=\"start\" x=\"994\" y=\"-290.8\" font-family=\"Helvetica,sans-Serif\" font-size=\"14.00\" fill=\"#000000\">single_cell_size ≤ 3.5</text>\n",
       "<text text-anchor=\"start\" x=\"1023.5\" y=\"-275.8\" font-family=\"Helvetica,sans-Serif\" font-size=\"14.00\" fill=\"#000000\">gini = 0.245</text>\n",
       "<text text-anchor=\"start\" x=\"1021.5\" y=\"-260.8\" font-family=\"Helvetica,sans-Serif\" font-size=\"14.00\" fill=\"#000000\">samples = 7</text>\n",
       "<text text-anchor=\"start\" x=\"1019.5\" y=\"-245.8\" font-family=\"Helvetica,sans-Serif\" font-size=\"14.00\" fill=\"#000000\">value = [1, 6]</text>\n",
       "<text text-anchor=\"start\" x=\"1006\" y=\"-230.8\" font-family=\"Helvetica,sans-Serif\" font-size=\"14.00\" fill=\"#000000\">class = malignant</text>\n",
       "</g>\n",
       "<!-- 29&#45;&gt;30 -->\n",
       "<g id=\"edge30\" class=\"edge\">\n",
       "<title>29&#45;&gt;30</title>\n",
       "<path fill=\"none\" stroke=\"#000000\" d=\"M1090.2119,-341.8796C1086.7971,-333.4136 1083.1675,-324.4153 1079.637,-315.6626\"/>\n",
       "<polygon fill=\"#000000\" stroke=\"#000000\" points=\"1082.8464,-314.2628 1075.8597,-306.2981 1076.3547,-316.8813 1082.8464,-314.2628\"/>\n",
       "</g>\n",
       "<!-- 35 -->\n",
       "<g id=\"node36\" class=\"node\">\n",
       "<title>35</title>\n",
       "<path fill=\"transparent\" stroke=\"#000000\" d=\"M1339.5,-306C1339.5,-306 1162.5,-306 1162.5,-306 1156.5,-306 1150.5,-300 1150.5,-294 1150.5,-294 1150.5,-235 1150.5,-235 1150.5,-229 1156.5,-223 1162.5,-223 1162.5,-223 1339.5,-223 1339.5,-223 1345.5,-223 1351.5,-229 1351.5,-235 1351.5,-235 1351.5,-294 1351.5,-294 1351.5,-300 1345.5,-306 1339.5,-306\"/>\n",
       "<text text-anchor=\"start\" x=\"1158.5\" y=\"-290.8\" font-family=\"Helvetica,sans-Serif\" font-size=\"14.00\" fill=\"#000000\">uniformity_of_cell_shape ≤ 4.5</text>\n",
       "<text text-anchor=\"start\" x=\"1223\" y=\"-275.8\" font-family=\"Helvetica,sans-Serif\" font-size=\"14.00\" fill=\"#000000\">gini = 0.5</text>\n",
       "<text text-anchor=\"start\" x=\"1213.5\" y=\"-260.8\" font-family=\"Helvetica,sans-Serif\" font-size=\"14.00\" fill=\"#000000\">samples = 4</text>\n",
       "<text text-anchor=\"start\" x=\"1211.5\" y=\"-245.8\" font-family=\"Helvetica,sans-Serif\" font-size=\"14.00\" fill=\"#000000\">value = [2, 2]</text>\n",
       "<text text-anchor=\"start\" x=\"1207\" y=\"-230.8\" font-family=\"Helvetica,sans-Serif\" font-size=\"14.00\" fill=\"#000000\">class = benign</text>\n",
       "</g>\n",
       "<!-- 29&#45;&gt;35 -->\n",
       "<g id=\"edge35\" class=\"edge\">\n",
       "<title>29&#45;&gt;35</title>\n",
       "<path fill=\"none\" stroke=\"#000000\" d=\"M1157.3642,-341.8796C1168.6985,-332.513 1180.8215,-322.4948 1192.4581,-312.8784\"/>\n",
       "<polygon fill=\"#000000\" stroke=\"#000000\" points=\"1194.9419,-315.3663 1200.4208,-306.2981 1190.4827,-309.9703 1194.9419,-315.3663\"/>\n",
       "</g>\n",
       "<!-- 31 -->\n",
       "<g id=\"node32\" class=\"node\">\n",
       "<title>31</title>\n",
       "<path fill=\"#399de5\" fill-opacity=\"0.498039\" stroke=\"#000000\" d=\"M987,-187C987,-187 889,-187 889,-187 883,-187 877,-181 877,-175 877,-175 877,-116 877,-116 877,-110 883,-104 889,-104 889,-104 987,-104 987,-104 993,-104 999,-110 999,-116 999,-116 999,-175 999,-175 999,-181 993,-187 987,-187\"/>\n",
       "<text text-anchor=\"start\" x=\"885.5\" y=\"-171.8\" font-family=\"Helvetica,sans-Serif\" font-size=\"14.00\" fill=\"#000000\">bare_nuclei ≤ 1.5</text>\n",
       "<text text-anchor=\"start\" x=\"902.5\" y=\"-156.8\" font-family=\"Helvetica,sans-Serif\" font-size=\"14.00\" fill=\"#000000\">gini = 0.444</text>\n",
       "<text text-anchor=\"start\" x=\"900.5\" y=\"-141.8\" font-family=\"Helvetica,sans-Serif\" font-size=\"14.00\" fill=\"#000000\">samples = 3</text>\n",
       "<text text-anchor=\"start\" x=\"898.5\" y=\"-126.8\" font-family=\"Helvetica,sans-Serif\" font-size=\"14.00\" fill=\"#000000\">value = [1, 2]</text>\n",
       "<text text-anchor=\"start\" x=\"885\" y=\"-111.8\" font-family=\"Helvetica,sans-Serif\" font-size=\"14.00\" fill=\"#000000\">class = malignant</text>\n",
       "</g>\n",
       "<!-- 30&#45;&gt;31 -->\n",
       "<g id=\"edge31\" class=\"edge\">\n",
       "<title>30&#45;&gt;31</title>\n",
       "<path fill=\"none\" stroke=\"#000000\" d=\"M1016.6801,-222.8796C1007.3392,-213.6931 997.361,-203.8798 987.756,-194.4336\"/>\n",
       "<polygon fill=\"#000000\" stroke=\"#000000\" points=\"990.0845,-191.8146 980.5006,-187.2981 985.1762,-196.8054 990.0845,-191.8146\"/>\n",
       "</g>\n",
       "<!-- 34 -->\n",
       "<g id=\"node35\" class=\"node\">\n",
       "<title>34</title>\n",
       "<path fill=\"#399de5\" stroke=\"#000000\" d=\"M1127,-179.5C1127,-179.5 1029,-179.5 1029,-179.5 1023,-179.5 1017,-173.5 1017,-167.5 1017,-167.5 1017,-123.5 1017,-123.5 1017,-117.5 1023,-111.5 1029,-111.5 1029,-111.5 1127,-111.5 1127,-111.5 1133,-111.5 1139,-117.5 1139,-123.5 1139,-123.5 1139,-167.5 1139,-167.5 1139,-173.5 1133,-179.5 1127,-179.5\"/>\n",
       "<text text-anchor=\"start\" x=\"1050\" y=\"-164.3\" font-family=\"Helvetica,sans-Serif\" font-size=\"14.00\" fill=\"#000000\">gini = 0.0</text>\n",
       "<text text-anchor=\"start\" x=\"1040.5\" y=\"-149.3\" font-family=\"Helvetica,sans-Serif\" font-size=\"14.00\" fill=\"#000000\">samples = 4</text>\n",
       "<text text-anchor=\"start\" x=\"1038.5\" y=\"-134.3\" font-family=\"Helvetica,sans-Serif\" font-size=\"14.00\" fill=\"#000000\">value = [0, 4]</text>\n",
       "<text text-anchor=\"start\" x=\"1025\" y=\"-119.3\" font-family=\"Helvetica,sans-Serif\" font-size=\"14.00\" fill=\"#000000\">class = malignant</text>\n",
       "</g>\n",
       "<!-- 30&#45;&gt;34 -->\n",
       "<g id=\"edge34\" class=\"edge\">\n",
       "<title>30&#45;&gt;34</title>\n",
       "<path fill=\"none\" stroke=\"#000000\" d=\"M1065.6453,-222.8796C1067.3483,-212.2134 1069.1862,-200.7021 1070.9107,-189.9015\"/>\n",
       "<polygon fill=\"#000000\" stroke=\"#000000\" points=\"1074.4006,-190.2417 1072.5211,-179.8149 1067.4882,-189.138 1074.4006,-190.2417\"/>\n",
       "</g>\n",
       "<!-- 32 -->\n",
       "<g id=\"node33\" class=\"node\">\n",
       "<title>32</title>\n",
       "<path fill=\"#e58139\" stroke=\"#000000\" d=\"M912,-68C912,-68 832,-68 832,-68 826,-68 820,-62 820,-56 820,-56 820,-12 820,-12 820,-6 826,0 832,0 832,0 912,0 912,0 918,0 924,-6 924,-12 924,-12 924,-56 924,-56 924,-62 918,-68 912,-68\"/>\n",
       "<text text-anchor=\"start\" x=\"844\" y=\"-52.8\" font-family=\"Helvetica,sans-Serif\" font-size=\"14.00\" fill=\"#000000\">gini = 0.0</text>\n",
       "<text text-anchor=\"start\" x=\"834.5\" y=\"-37.8\" font-family=\"Helvetica,sans-Serif\" font-size=\"14.00\" fill=\"#000000\">samples = 1</text>\n",
       "<text text-anchor=\"start\" x=\"832.5\" y=\"-22.8\" font-family=\"Helvetica,sans-Serif\" font-size=\"14.00\" fill=\"#000000\">value = [1, 0]</text>\n",
       "<text text-anchor=\"start\" x=\"828\" y=\"-7.8\" font-family=\"Helvetica,sans-Serif\" font-size=\"14.00\" fill=\"#000000\">class = benign</text>\n",
       "</g>\n",
       "<!-- 31&#45;&gt;32 -->\n",
       "<g id=\"edge32\" class=\"edge\">\n",
       "<title>31&#45;&gt;32</title>\n",
       "<path fill=\"none\" stroke=\"#000000\" d=\"M913.424,-103.9815C908.2014,-95.1585 902.6771,-85.8258 897.4237,-76.9506\"/>\n",
       "<polygon fill=\"#000000\" stroke=\"#000000\" points=\"900.3874,-75.0863 892.2816,-68.2637 894.3636,-78.652 900.3874,-75.0863\"/>\n",
       "</g>\n",
       "<!-- 33 -->\n",
       "<g id=\"node34\" class=\"node\">\n",
       "<title>33</title>\n",
       "<path fill=\"#399de5\" stroke=\"#000000\" d=\"M1052,-68C1052,-68 954,-68 954,-68 948,-68 942,-62 942,-56 942,-56 942,-12 942,-12 942,-6 948,0 954,0 954,0 1052,0 1052,0 1058,0 1064,-6 1064,-12 1064,-12 1064,-56 1064,-56 1064,-62 1058,-68 1052,-68\"/>\n",
       "<text text-anchor=\"start\" x=\"975\" y=\"-52.8\" font-family=\"Helvetica,sans-Serif\" font-size=\"14.00\" fill=\"#000000\">gini = 0.0</text>\n",
       "<text text-anchor=\"start\" x=\"965.5\" y=\"-37.8\" font-family=\"Helvetica,sans-Serif\" font-size=\"14.00\" fill=\"#000000\">samples = 2</text>\n",
       "<text text-anchor=\"start\" x=\"963.5\" y=\"-22.8\" font-family=\"Helvetica,sans-Serif\" font-size=\"14.00\" fill=\"#000000\">value = [0, 2]</text>\n",
       "<text text-anchor=\"start\" x=\"950\" y=\"-7.8\" font-family=\"Helvetica,sans-Serif\" font-size=\"14.00\" fill=\"#000000\">class = malignant</text>\n",
       "</g>\n",
       "<!-- 31&#45;&gt;33 -->\n",
       "<g id=\"edge33\" class=\"edge\">\n",
       "<title>31&#45;&gt;33</title>\n",
       "<path fill=\"none\" stroke=\"#000000\" d=\"M962.2036,-103.9815C967.3471,-95.1585 972.7877,-85.8258 977.9616,-76.9506\"/>\n",
       "<polygon fill=\"#000000\" stroke=\"#000000\" points=\"981.013,-78.6656 983.0257,-68.2637 974.9656,-75.1402 981.013,-78.6656\"/>\n",
       "</g>\n",
       "<!-- 36 -->\n",
       "<g id=\"node37\" class=\"node\">\n",
       "<title>36</title>\n",
       "<path fill=\"#e58139\" stroke=\"#000000\" d=\"M1273,-179.5C1273,-179.5 1193,-179.5 1193,-179.5 1187,-179.5 1181,-173.5 1181,-167.5 1181,-167.5 1181,-123.5 1181,-123.5 1181,-117.5 1187,-111.5 1193,-111.5 1193,-111.5 1273,-111.5 1273,-111.5 1279,-111.5 1285,-117.5 1285,-123.5 1285,-123.5 1285,-167.5 1285,-167.5 1285,-173.5 1279,-179.5 1273,-179.5\"/>\n",
       "<text text-anchor=\"start\" x=\"1205\" y=\"-164.3\" font-family=\"Helvetica,sans-Serif\" font-size=\"14.00\" fill=\"#000000\">gini = 0.0</text>\n",
       "<text text-anchor=\"start\" x=\"1195.5\" y=\"-149.3\" font-family=\"Helvetica,sans-Serif\" font-size=\"14.00\" fill=\"#000000\">samples = 2</text>\n",
       "<text text-anchor=\"start\" x=\"1193.5\" y=\"-134.3\" font-family=\"Helvetica,sans-Serif\" font-size=\"14.00\" fill=\"#000000\">value = [2, 0]</text>\n",
       "<text text-anchor=\"start\" x=\"1189\" y=\"-119.3\" font-family=\"Helvetica,sans-Serif\" font-size=\"14.00\" fill=\"#000000\">class = benign</text>\n",
       "</g>\n",
       "<!-- 35&#45;&gt;36 -->\n",
       "<g id=\"edge36\" class=\"edge\">\n",
       "<title>35&#45;&gt;36</title>\n",
       "<path fill=\"none\" stroke=\"#000000\" d=\"M1244.7045,-222.8796C1243.0911,-212.2134 1241.3499,-200.7021 1239.7162,-189.9015\"/>\n",
       "<polygon fill=\"#000000\" stroke=\"#000000\" points=\"1243.1468,-189.179 1238.1905,-179.8149 1236.2255,-190.226 1243.1468,-189.179\"/>\n",
       "</g>\n",
       "<!-- 37 -->\n",
       "<g id=\"node38\" class=\"node\">\n",
       "<title>37</title>\n",
       "<path fill=\"#399de5\" stroke=\"#000000\" d=\"M1413,-179.5C1413,-179.5 1315,-179.5 1315,-179.5 1309,-179.5 1303,-173.5 1303,-167.5 1303,-167.5 1303,-123.5 1303,-123.5 1303,-117.5 1309,-111.5 1315,-111.5 1315,-111.5 1413,-111.5 1413,-111.5 1419,-111.5 1425,-117.5 1425,-123.5 1425,-123.5 1425,-167.5 1425,-167.5 1425,-173.5 1419,-179.5 1413,-179.5\"/>\n",
       "<text text-anchor=\"start\" x=\"1336\" y=\"-164.3\" font-family=\"Helvetica,sans-Serif\" font-size=\"14.00\" fill=\"#000000\">gini = 0.0</text>\n",
       "<text text-anchor=\"start\" x=\"1326.5\" y=\"-149.3\" font-family=\"Helvetica,sans-Serif\" font-size=\"14.00\" fill=\"#000000\">samples = 2</text>\n",
       "<text text-anchor=\"start\" x=\"1324.5\" y=\"-134.3\" font-family=\"Helvetica,sans-Serif\" font-size=\"14.00\" fill=\"#000000\">value = [0, 2]</text>\n",
       "<text text-anchor=\"start\" x=\"1311\" y=\"-119.3\" font-family=\"Helvetica,sans-Serif\" font-size=\"14.00\" fill=\"#000000\">class = malignant</text>\n",
       "</g>\n",
       "<!-- 35&#45;&gt;37 -->\n",
       "<g id=\"edge37\" class=\"edge\">\n",
       "<title>35&#45;&gt;37</title>\n",
       "<path fill=\"none\" stroke=\"#000000\" d=\"M1290.5219,-222.8796C1301.4857,-211.3337 1313.3897,-198.7976 1324.3601,-187.2446\"/>\n",
       "<polygon fill=\"#000000\" stroke=\"#000000\" points=\"1327.0673,-189.4766 1331.4152,-179.8149 1321.9913,-184.6564 1327.0673,-189.4766\"/>\n",
       "</g>\n",
       "<!-- 41 -->\n",
       "<g id=\"node42\" class=\"node\">\n",
       "<title>41</title>\n",
       "<path fill=\"#399de5\" fill-opacity=\"0.858824\" stroke=\"#000000\" d=\"M1429,-663C1429,-663 1309,-663 1309,-663 1303,-663 1297,-657 1297,-651 1297,-651 1297,-592 1297,-592 1297,-586 1303,-580 1309,-580 1309,-580 1429,-580 1429,-580 1435,-580 1441,-586 1441,-592 1441,-592 1441,-651 1441,-651 1441,-657 1435,-663 1429,-663\"/>\n",
       "<text text-anchor=\"start\" x=\"1305\" y=\"-647.8\" font-family=\"Helvetica,sans-Serif\" font-size=\"14.00\" fill=\"#000000\">clump_tickness ≤ 7.0</text>\n",
       "<text text-anchor=\"start\" x=\"1333.5\" y=\"-632.8\" font-family=\"Helvetica,sans-Serif\" font-size=\"14.00\" fill=\"#000000\">gini = 0.219</text>\n",
       "<text text-anchor=\"start\" x=\"1331.5\" y=\"-617.8\" font-family=\"Helvetica,sans-Serif\" font-size=\"14.00\" fill=\"#000000\">samples = 8</text>\n",
       "<text text-anchor=\"start\" x=\"1329.5\" y=\"-602.8\" font-family=\"Helvetica,sans-Serif\" font-size=\"14.00\" fill=\"#000000\">value = [1, 7]</text>\n",
       "<text text-anchor=\"start\" x=\"1316\" y=\"-587.8\" font-family=\"Helvetica,sans-Serif\" font-size=\"14.00\" fill=\"#000000\">class = malignant</text>\n",
       "</g>\n",
       "<!-- 40&#45;&gt;41 -->\n",
       "<g id=\"edge41\" class=\"edge\">\n",
       "<title>40&#45;&gt;41</title>\n",
       "<path fill=\"none\" stroke=\"#000000\" d=\"M1369,-698.8796C1369,-690.6838 1369,-681.9891 1369,-673.5013\"/>\n",
       "<polygon fill=\"#000000\" stroke=\"#000000\" points=\"1372.5001,-673.298 1369,-663.2981 1365.5001,-673.2981 1372.5001,-673.298\"/>\n",
       "</g>\n",
       "<!-- 46 -->\n",
       "<g id=\"node47\" class=\"node\">\n",
       "<title>46</title>\n",
       "<path fill=\"#399de5\" fill-opacity=\"0.992157\" stroke=\"#000000\" d=\"M1692,-663C1692,-663 1570,-663 1570,-663 1564,-663 1558,-657 1558,-651 1558,-651 1558,-592 1558,-592 1558,-586 1564,-580 1570,-580 1570,-580 1692,-580 1692,-580 1698,-580 1704,-586 1704,-592 1704,-592 1704,-651 1704,-651 1704,-657 1698,-663 1692,-663\"/>\n",
       "<text text-anchor=\"start\" x=\"1566\" y=\"-647.8\" font-family=\"Helvetica,sans-Serif\" font-size=\"14.00\" fill=\"#000000\">normal_nucleoli ≤ 2.5</text>\n",
       "<text text-anchor=\"start\" x=\"1595.5\" y=\"-632.8\" font-family=\"Helvetica,sans-Serif\" font-size=\"14.00\" fill=\"#000000\">gini = 0.017</text>\n",
       "<text text-anchor=\"start\" x=\"1586\" y=\"-617.8\" font-family=\"Helvetica,sans-Serif\" font-size=\"14.00\" fill=\"#000000\">samples = 120</text>\n",
       "<text text-anchor=\"start\" x=\"1584\" y=\"-602.8\" font-family=\"Helvetica,sans-Serif\" font-size=\"14.00\" fill=\"#000000\">value = [1, 119]</text>\n",
       "<text text-anchor=\"start\" x=\"1578\" y=\"-587.8\" font-family=\"Helvetica,sans-Serif\" font-size=\"14.00\" fill=\"#000000\">class = malignant</text>\n",
       "</g>\n",
       "<!-- 40&#45;&gt;46 -->\n",
       "<g id=\"edge46\" class=\"edge\">\n",
       "<title>40&#45;&gt;46</title>\n",
       "<path fill=\"none\" stroke=\"#000000\" d=\"M1452.2584,-702.6841C1482.9473,-688.7453 1517.6857,-672.9672 1548.323,-659.0518\"/>\n",
       "<polygon fill=\"#000000\" stroke=\"#000000\" points=\"1550.033,-662.1193 1557.6904,-654.7971 1547.1382,-655.7459 1550.033,-662.1193\"/>\n",
       "</g>\n",
       "<!-- 42 -->\n",
       "<g id=\"node43\" class=\"node\">\n",
       "<title>42</title>\n",
       "<path fill=\"transparent\" stroke=\"#000000\" d=\"M1388,-544C1388,-544 1224,-544 1224,-544 1218,-544 1212,-538 1212,-532 1212,-532 1212,-473 1212,-473 1212,-467 1218,-461 1224,-461 1224,-461 1388,-461 1388,-461 1394,-461 1400,-467 1400,-473 1400,-473 1400,-532 1400,-532 1400,-538 1394,-544 1388,-544\"/>\n",
       "<text text-anchor=\"start\" x=\"1220\" y=\"-528.8\" font-family=\"Helvetica,sans-Serif\" font-size=\"14.00\" fill=\"#000000\">uniformity_of_cell_size ≤ 8.5</text>\n",
       "<text text-anchor=\"start\" x=\"1278\" y=\"-513.8\" font-family=\"Helvetica,sans-Serif\" font-size=\"14.00\" fill=\"#000000\">gini = 0.5</text>\n",
       "<text text-anchor=\"start\" x=\"1268.5\" y=\"-498.8\" font-family=\"Helvetica,sans-Serif\" font-size=\"14.00\" fill=\"#000000\">samples = 2</text>\n",
       "<text text-anchor=\"start\" x=\"1266.5\" y=\"-483.8\" font-family=\"Helvetica,sans-Serif\" font-size=\"14.00\" fill=\"#000000\">value = [1, 1]</text>\n",
       "<text text-anchor=\"start\" x=\"1262\" y=\"-468.8\" font-family=\"Helvetica,sans-Serif\" font-size=\"14.00\" fill=\"#000000\">class = benign</text>\n",
       "</g>\n",
       "<!-- 41&#45;&gt;42 -->\n",
       "<g id=\"edge42\" class=\"edge\">\n",
       "<title>41&#45;&gt;42</title>\n",
       "<path fill=\"none\" stroke=\"#000000\" d=\"M1346.9657,-579.8796C1342.436,-571.3236 1337.6185,-562.2238 1332.9382,-553.3833\"/>\n",
       "<polygon fill=\"#000000\" stroke=\"#000000\" points=\"1335.9006,-551.4983 1328.1284,-544.2981 1329.7141,-554.7736 1335.9006,-551.4983\"/>\n",
       "</g>\n",
       "<!-- 45 -->\n",
       "<g id=\"node46\" class=\"node\">\n",
       "<title>45</title>\n",
       "<path fill=\"#399de5\" stroke=\"#000000\" d=\"M1528,-536.5C1528,-536.5 1430,-536.5 1430,-536.5 1424,-536.5 1418,-530.5 1418,-524.5 1418,-524.5 1418,-480.5 1418,-480.5 1418,-474.5 1424,-468.5 1430,-468.5 1430,-468.5 1528,-468.5 1528,-468.5 1534,-468.5 1540,-474.5 1540,-480.5 1540,-480.5 1540,-524.5 1540,-524.5 1540,-530.5 1534,-536.5 1528,-536.5\"/>\n",
       "<text text-anchor=\"start\" x=\"1451\" y=\"-521.3\" font-family=\"Helvetica,sans-Serif\" font-size=\"14.00\" fill=\"#000000\">gini = 0.0</text>\n",
       "<text text-anchor=\"start\" x=\"1441.5\" y=\"-506.3\" font-family=\"Helvetica,sans-Serif\" font-size=\"14.00\" fill=\"#000000\">samples = 6</text>\n",
       "<text text-anchor=\"start\" x=\"1439.5\" y=\"-491.3\" font-family=\"Helvetica,sans-Serif\" font-size=\"14.00\" fill=\"#000000\">value = [0, 6]</text>\n",
       "<text text-anchor=\"start\" x=\"1426\" y=\"-476.3\" font-family=\"Helvetica,sans-Serif\" font-size=\"14.00\" fill=\"#000000\">class = malignant</text>\n",
       "</g>\n",
       "<!-- 41&#45;&gt;45 -->\n",
       "<g id=\"edge45\" class=\"edge\">\n",
       "<title>41&#45;&gt;45</title>\n",
       "<path fill=\"none\" stroke=\"#000000\" d=\"M1407.4727,-579.8796C1418.1453,-568.3337 1429.7333,-555.7976 1440.4125,-544.2446\"/>\n",
       "<polygon fill=\"#000000\" stroke=\"#000000\" points=\"1443.0625,-546.534 1447.2803,-536.8149 1437.9222,-541.7825 1443.0625,-546.534\"/>\n",
       "</g>\n",
       "<!-- 43 -->\n",
       "<g id=\"node44\" class=\"node\">\n",
       "<title>43</title>\n",
       "<path fill=\"#e58139\" stroke=\"#000000\" d=\"M1311,-417.5C1311,-417.5 1231,-417.5 1231,-417.5 1225,-417.5 1219,-411.5 1219,-405.5 1219,-405.5 1219,-361.5 1219,-361.5 1219,-355.5 1225,-349.5 1231,-349.5 1231,-349.5 1311,-349.5 1311,-349.5 1317,-349.5 1323,-355.5 1323,-361.5 1323,-361.5 1323,-405.5 1323,-405.5 1323,-411.5 1317,-417.5 1311,-417.5\"/>\n",
       "<text text-anchor=\"start\" x=\"1243\" y=\"-402.3\" font-family=\"Helvetica,sans-Serif\" font-size=\"14.00\" fill=\"#000000\">gini = 0.0</text>\n",
       "<text text-anchor=\"start\" x=\"1233.5\" y=\"-387.3\" font-family=\"Helvetica,sans-Serif\" font-size=\"14.00\" fill=\"#000000\">samples = 1</text>\n",
       "<text text-anchor=\"start\" x=\"1231.5\" y=\"-372.3\" font-family=\"Helvetica,sans-Serif\" font-size=\"14.00\" fill=\"#000000\">value = [1, 0]</text>\n",
       "<text text-anchor=\"start\" x=\"1227\" y=\"-357.3\" font-family=\"Helvetica,sans-Serif\" font-size=\"14.00\" fill=\"#000000\">class = benign</text>\n",
       "</g>\n",
       "<!-- 42&#45;&gt;43 -->\n",
       "<g id=\"edge43\" class=\"edge\">\n",
       "<title>42&#45;&gt;43</title>\n",
       "<path fill=\"none\" stroke=\"#000000\" d=\"M1293.7587,-460.8796C1290.5892,-450.1034 1287.1661,-438.4647 1283.9611,-427.5677\"/>\n",
       "<polygon fill=\"#000000\" stroke=\"#000000\" points=\"1287.2721,-426.421 1281.0926,-417.8149 1280.5566,-428.3962 1287.2721,-426.421\"/>\n",
       "</g>\n",
       "<!-- 44 -->\n",
       "<g id=\"node45\" class=\"node\">\n",
       "<title>44</title>\n",
       "<path fill=\"#399de5\" stroke=\"#000000\" d=\"M1451,-417.5C1451,-417.5 1353,-417.5 1353,-417.5 1347,-417.5 1341,-411.5 1341,-405.5 1341,-405.5 1341,-361.5 1341,-361.5 1341,-355.5 1347,-349.5 1353,-349.5 1353,-349.5 1451,-349.5 1451,-349.5 1457,-349.5 1463,-355.5 1463,-361.5 1463,-361.5 1463,-405.5 1463,-405.5 1463,-411.5 1457,-417.5 1451,-417.5\"/>\n",
       "<text text-anchor=\"start\" x=\"1374\" y=\"-402.3\" font-family=\"Helvetica,sans-Serif\" font-size=\"14.00\" fill=\"#000000\">gini = 0.0</text>\n",
       "<text text-anchor=\"start\" x=\"1364.5\" y=\"-387.3\" font-family=\"Helvetica,sans-Serif\" font-size=\"14.00\" fill=\"#000000\">samples = 1</text>\n",
       "<text text-anchor=\"start\" x=\"1362.5\" y=\"-372.3\" font-family=\"Helvetica,sans-Serif\" font-size=\"14.00\" fill=\"#000000\">value = [0, 1]</text>\n",
       "<text text-anchor=\"start\" x=\"1349\" y=\"-357.3\" font-family=\"Helvetica,sans-Serif\" font-size=\"14.00\" fill=\"#000000\">class = malignant</text>\n",
       "</g>\n",
       "<!-- 42&#45;&gt;44 -->\n",
       "<g id=\"edge44\" class=\"edge\">\n",
       "<title>42&#45;&gt;44</title>\n",
       "<path fill=\"none\" stroke=\"#000000\" d=\"M1339.5761,-460.8796C1348.7131,-449.5536 1358.6187,-437.2748 1367.7902,-425.9058\"/>\n",
       "<polygon fill=\"#000000\" stroke=\"#000000\" points=\"1370.7626,-427.7957 1374.3174,-417.8149 1365.3144,-423.4005 1370.7626,-427.7957\"/>\n",
       "</g>\n",
       "<!-- 47 -->\n",
       "<g id=\"node48\" class=\"node\">\n",
       "<title>47</title>\n",
       "<path fill=\"#399de5\" fill-opacity=\"0.952941\" stroke=\"#000000\" d=\"M1692,-544C1692,-544 1570,-544 1570,-544 1564,-544 1558,-538 1558,-532 1558,-532 1558,-473 1558,-473 1558,-467 1564,-461 1570,-461 1570,-461 1692,-461 1692,-461 1698,-461 1704,-467 1704,-473 1704,-473 1704,-532 1704,-532 1704,-538 1698,-544 1692,-544\"/>\n",
       "<text text-anchor=\"start\" x=\"1566\" y=\"-528.8\" font-family=\"Helvetica,sans-Serif\" font-size=\"14.00\" fill=\"#000000\">normal_nucleoli ≤ 1.5</text>\n",
       "<text text-anchor=\"start\" x=\"1595.5\" y=\"-513.8\" font-family=\"Helvetica,sans-Serif\" font-size=\"14.00\" fill=\"#000000\">gini = 0.083</text>\n",
       "<text text-anchor=\"start\" x=\"1590\" y=\"-498.8\" font-family=\"Helvetica,sans-Serif\" font-size=\"14.00\" fill=\"#000000\">samples = 23</text>\n",
       "<text text-anchor=\"start\" x=\"1588\" y=\"-483.8\" font-family=\"Helvetica,sans-Serif\" font-size=\"14.00\" fill=\"#000000\">value = [1, 22]</text>\n",
       "<text text-anchor=\"start\" x=\"1578\" y=\"-468.8\" font-family=\"Helvetica,sans-Serif\" font-size=\"14.00\" fill=\"#000000\">class = malignant</text>\n",
       "</g>\n",
       "<!-- 46&#45;&gt;47 -->\n",
       "<g id=\"edge47\" class=\"edge\">\n",
       "<title>46&#45;&gt;47</title>\n",
       "<path fill=\"none\" stroke=\"#000000\" d=\"M1631,-579.8796C1631,-571.6838 1631,-562.9891 1631,-554.5013\"/>\n",
       "<polygon fill=\"#000000\" stroke=\"#000000\" points=\"1634.5001,-554.298 1631,-544.2981 1627.5001,-554.2981 1634.5001,-554.298\"/>\n",
       "</g>\n",
       "<!-- 52 -->\n",
       "<g id=\"node53\" class=\"node\">\n",
       "<title>52</title>\n",
       "<path fill=\"#399de5\" stroke=\"#000000\" d=\"M1832,-536.5C1832,-536.5 1734,-536.5 1734,-536.5 1728,-536.5 1722,-530.5 1722,-524.5 1722,-524.5 1722,-480.5 1722,-480.5 1722,-474.5 1728,-468.5 1734,-468.5 1734,-468.5 1832,-468.5 1832,-468.5 1838,-468.5 1844,-474.5 1844,-480.5 1844,-480.5 1844,-524.5 1844,-524.5 1844,-530.5 1838,-536.5 1832,-536.5\"/>\n",
       "<text text-anchor=\"start\" x=\"1755\" y=\"-521.3\" font-family=\"Helvetica,sans-Serif\" font-size=\"14.00\" fill=\"#000000\">gini = 0.0</text>\n",
       "<text text-anchor=\"start\" x=\"1742\" y=\"-506.3\" font-family=\"Helvetica,sans-Serif\" font-size=\"14.00\" fill=\"#000000\">samples = 97</text>\n",
       "<text text-anchor=\"start\" x=\"1740\" y=\"-491.3\" font-family=\"Helvetica,sans-Serif\" font-size=\"14.00\" fill=\"#000000\">value = [0, 97]</text>\n",
       "<text text-anchor=\"start\" x=\"1730\" y=\"-476.3\" font-family=\"Helvetica,sans-Serif\" font-size=\"14.00\" fill=\"#000000\">class = malignant</text>\n",
       "</g>\n",
       "<!-- 46&#45;&gt;52 -->\n",
       "<g id=\"edge52\" class=\"edge\">\n",
       "<title>46&#45;&gt;52</title>\n",
       "<path fill=\"none\" stroke=\"#000000\" d=\"M1684.1622,-579.8796C1699.3313,-568.0038 1715.8384,-555.0804 1730.9409,-543.2568\"/>\n",
       "<polygon fill=\"#000000\" stroke=\"#000000\" points=\"1733.4528,-545.7353 1739.1692,-536.8149 1729.1376,-540.2236 1733.4528,-545.7353\"/>\n",
       "</g>\n",
       "<!-- 48 -->\n",
       "<g id=\"node49\" class=\"node\">\n",
       "<title>48</title>\n",
       "<path fill=\"#399de5\" stroke=\"#000000\" d=\"M1634,-417.5C1634,-417.5 1536,-417.5 1536,-417.5 1530,-417.5 1524,-411.5 1524,-405.5 1524,-405.5 1524,-361.5 1524,-361.5 1524,-355.5 1530,-349.5 1536,-349.5 1536,-349.5 1634,-349.5 1634,-349.5 1640,-349.5 1646,-355.5 1646,-361.5 1646,-361.5 1646,-405.5 1646,-405.5 1646,-411.5 1640,-417.5 1634,-417.5\"/>\n",
       "<text text-anchor=\"start\" x=\"1557\" y=\"-402.3\" font-family=\"Helvetica,sans-Serif\" font-size=\"14.00\" fill=\"#000000\">gini = 0.0</text>\n",
       "<text text-anchor=\"start\" x=\"1544\" y=\"-387.3\" font-family=\"Helvetica,sans-Serif\" font-size=\"14.00\" fill=\"#000000\">samples = 18</text>\n",
       "<text text-anchor=\"start\" x=\"1542\" y=\"-372.3\" font-family=\"Helvetica,sans-Serif\" font-size=\"14.00\" fill=\"#000000\">value = [0, 18]</text>\n",
       "<text text-anchor=\"start\" x=\"1532\" y=\"-357.3\" font-family=\"Helvetica,sans-Serif\" font-size=\"14.00\" fill=\"#000000\">class = malignant</text>\n",
       "</g>\n",
       "<!-- 47&#45;&gt;48 -->\n",
       "<g id=\"edge48\" class=\"edge\">\n",
       "<title>47&#45;&gt;48</title>\n",
       "<path fill=\"none\" stroke=\"#000000\" d=\"M1614.9114,-460.8796C1610.7034,-449.9935 1606.155,-438.227 1601.9057,-427.2344\"/>\n",
       "<polygon fill=\"#000000\" stroke=\"#000000\" points=\"1605.1348,-425.8804 1598.2646,-417.8149 1598.6056,-428.4043 1605.1348,-425.8804\"/>\n",
       "</g>\n",
       "<!-- 49 -->\n",
       "<g id=\"node50\" class=\"node\">\n",
       "<title>49</title>\n",
       "<path fill=\"#399de5\" fill-opacity=\"0.749020\" stroke=\"#000000\" d=\"M1804,-425C1804,-425 1676,-425 1676,-425 1670,-425 1664,-419 1664,-413 1664,-413 1664,-354 1664,-354 1664,-348 1670,-342 1676,-342 1676,-342 1804,-342 1804,-342 1810,-342 1816,-348 1816,-354 1816,-354 1816,-413 1816,-413 1816,-419 1810,-425 1804,-425\"/>\n",
       "<text text-anchor=\"start\" x=\"1672\" y=\"-409.8\" font-family=\"Helvetica,sans-Serif\" font-size=\"14.00\" fill=\"#000000\">bland_chromatin ≤ 5.5</text>\n",
       "<text text-anchor=\"start\" x=\"1708\" y=\"-394.8\" font-family=\"Helvetica,sans-Serif\" font-size=\"14.00\" fill=\"#000000\">gini = 0.32</text>\n",
       "<text text-anchor=\"start\" x=\"1702.5\" y=\"-379.8\" font-family=\"Helvetica,sans-Serif\" font-size=\"14.00\" fill=\"#000000\">samples = 5</text>\n",
       "<text text-anchor=\"start\" x=\"1700.5\" y=\"-364.8\" font-family=\"Helvetica,sans-Serif\" font-size=\"14.00\" fill=\"#000000\">value = [1, 4]</text>\n",
       "<text text-anchor=\"start\" x=\"1687\" y=\"-349.8\" font-family=\"Helvetica,sans-Serif\" font-size=\"14.00\" fill=\"#000000\">class = malignant</text>\n",
       "</g>\n",
       "<!-- 47&#45;&gt;49 -->\n",
       "<g id=\"edge49\" class=\"edge\">\n",
       "<title>47&#45;&gt;49</title>\n",
       "<path fill=\"none\" stroke=\"#000000\" d=\"M1669.1229,-460.8796C1677.4549,-451.7832 1686.3498,-442.0722 1694.9239,-432.7116\"/>\n",
       "<polygon fill=\"#000000\" stroke=\"#000000\" points=\"1697.5408,-435.0363 1701.7144,-425.2981 1692.3789,-430.3081 1697.5408,-435.0363\"/>\n",
       "</g>\n",
       "<!-- 50 -->\n",
       "<g id=\"node51\" class=\"node\">\n",
       "<title>50</title>\n",
       "<path fill=\"#e58139\" stroke=\"#000000\" d=\"M1714,-298.5C1714,-298.5 1634,-298.5 1634,-298.5 1628,-298.5 1622,-292.5 1622,-286.5 1622,-286.5 1622,-242.5 1622,-242.5 1622,-236.5 1628,-230.5 1634,-230.5 1634,-230.5 1714,-230.5 1714,-230.5 1720,-230.5 1726,-236.5 1726,-242.5 1726,-242.5 1726,-286.5 1726,-286.5 1726,-292.5 1720,-298.5 1714,-298.5\"/>\n",
       "<text text-anchor=\"start\" x=\"1646\" y=\"-283.3\" font-family=\"Helvetica,sans-Serif\" font-size=\"14.00\" fill=\"#000000\">gini = 0.0</text>\n",
       "<text text-anchor=\"start\" x=\"1636.5\" y=\"-268.3\" font-family=\"Helvetica,sans-Serif\" font-size=\"14.00\" fill=\"#000000\">samples = 1</text>\n",
       "<text text-anchor=\"start\" x=\"1634.5\" y=\"-253.3\" font-family=\"Helvetica,sans-Serif\" font-size=\"14.00\" fill=\"#000000\">value = [1, 0]</text>\n",
       "<text text-anchor=\"start\" x=\"1630\" y=\"-238.3\" font-family=\"Helvetica,sans-Serif\" font-size=\"14.00\" fill=\"#000000\">class = benign</text>\n",
       "</g>\n",
       "<!-- 49&#45;&gt;50 -->\n",
       "<g id=\"edge50\" class=\"edge\">\n",
       "<title>49&#45;&gt;50</title>\n",
       "<path fill=\"none\" stroke=\"#000000\" d=\"M1716.9164,-341.8796C1710.7567,-330.7735 1704.0889,-318.7513 1697.8871,-307.5691\"/>\n",
       "<polygon fill=\"#000000\" stroke=\"#000000\" points=\"1700.9428,-305.8624 1693.0318,-298.8149 1694.8213,-309.2576 1700.9428,-305.8624\"/>\n",
       "</g>\n",
       "<!-- 51 -->\n",
       "<g id=\"node52\" class=\"node\">\n",
       "<title>51</title>\n",
       "<path fill=\"#399de5\" stroke=\"#000000\" d=\"M1854,-298.5C1854,-298.5 1756,-298.5 1756,-298.5 1750,-298.5 1744,-292.5 1744,-286.5 1744,-286.5 1744,-242.5 1744,-242.5 1744,-236.5 1750,-230.5 1756,-230.5 1756,-230.5 1854,-230.5 1854,-230.5 1860,-230.5 1866,-236.5 1866,-242.5 1866,-242.5 1866,-286.5 1866,-286.5 1866,-292.5 1860,-298.5 1854,-298.5\"/>\n",
       "<text text-anchor=\"start\" x=\"1777\" y=\"-283.3\" font-family=\"Helvetica,sans-Serif\" font-size=\"14.00\" fill=\"#000000\">gini = 0.0</text>\n",
       "<text text-anchor=\"start\" x=\"1767.5\" y=\"-268.3\" font-family=\"Helvetica,sans-Serif\" font-size=\"14.00\" fill=\"#000000\">samples = 4</text>\n",
       "<text text-anchor=\"start\" x=\"1765.5\" y=\"-253.3\" font-family=\"Helvetica,sans-Serif\" font-size=\"14.00\" fill=\"#000000\">value = [0, 4]</text>\n",
       "<text text-anchor=\"start\" x=\"1752\" y=\"-238.3\" font-family=\"Helvetica,sans-Serif\" font-size=\"14.00\" fill=\"#000000\">class = malignant</text>\n",
       "</g>\n",
       "<!-- 49&#45;&gt;51 -->\n",
       "<g id=\"edge51\" class=\"edge\">\n",
       "<title>49&#45;&gt;51</title>\n",
       "<path fill=\"none\" stroke=\"#000000\" d=\"M1762.7338,-341.8796C1768.7401,-330.8835 1775.237,-318.9893 1781.2933,-307.9015\"/>\n",
       "<polygon fill=\"#000000\" stroke=\"#000000\" points=\"1784.5345,-309.2689 1786.2565,-298.8149 1778.3912,-305.9133 1784.5345,-309.2689\"/>\n",
       "</g>\n",
       "</g>\n",
       "</svg>\n"
      ],
      "text/plain": [
       "<graphviz.files.Source at 0x7f2c3191fcf8>"
      ]
     },
     "execution_count": 88,
     "metadata": {},
     "output_type": "execute_result"
    }
   ],
   "source": [
    "# Plot Decision Tree flow chart\n",
    "import graphviz\n",
    "dot_data = tree.export_graphviz(clf, out_file=None, \n",
    "                     feature_names=feature_list,  \n",
    "                     class_names=names,  \n",
    "                     filled=True, rounded=True,  \n",
    "                     special_characters=True)  \n",
    "graph = graphviz.Source(dot_data)  \n",
    "graph "
   ]
  },
  {
   "cell_type": "code",
   "execution_count": 89,
   "metadata": {},
   "outputs": [
    {
     "name": "stdout",
     "output_type": "stream",
     "text": [
      "[[137   3]\n",
      " [  6  59]]\n"
     ]
    }
   ],
   "source": [
    "# Examine results from Decision Tree model\n",
    "# Calculate confusion matrix on test data\n",
    "from sklearn.metrics import confusion_matrix\n",
    "confusion_matrix = confusion_matrix(y_test, y_pred_clf)\n",
    "print(confusion_matrix)"
   ]
  },
  {
   "cell_type": "code",
   "execution_count": 90,
   "metadata": {},
   "outputs": [
    {
     "name": "stdout",
     "output_type": "stream",
     "text": [
      "             precision    recall  f1-score   support\n",
      "\n",
      "          0       0.96      0.98      0.97       140\n",
      "          1       0.95      0.91      0.93        65\n",
      "\n",
      "avg / total       0.96      0.96      0.96       205\n",
      "\n"
     ]
    }
   ],
   "source": [
    "# Calculate Classification Report on test data\n",
    "from sklearn.metrics import classification_report\n",
    "print(classification_report(y_test, y_pred_clf))"
   ]
  },
  {
   "cell_type": "code",
   "execution_count": 91,
   "metadata": {},
   "outputs": [
    {
     "name": "stdout",
     "output_type": "stream",
     "text": [
      "Tuned Logistic Regression Parameter: {'C': 3.727593720314938, 'penalty': 'l2'}\n",
      "Tuned Logistic Regression Accuracy: 0.9643605870020965\n"
     ]
    }
   ],
   "source": [
    "# Perform Logistic Regression on Training data, using 3-fold cross validation\n",
    "from sklearn.linear_model import LogisticRegression\n",
    "from sklearn.model_selection import GridSearchCV\n",
    "\n",
    "# Create the hyperparameter grid\n",
    "# Used to find best value of C hyperparameter (default value is 1) and best regression penalty (l1 or l2)\n",
    "c_space = np.logspace(-5, 8, 15)\n",
    "param_grid = {'C': c_space, 'penalty': ['l1', 'l2']}\n",
    "\n",
    "# Instantiate the logistic regression classifier: logreg\n",
    "logreg = LogisticRegression()\n",
    "\n",
    "# Instantiate the GridSearchCV object: logreg_cv\n",
    "# 5-fold cross validation\n",
    "logreg_cv = GridSearchCV(logreg, param_grid, cv=3)\n",
    "\n",
    "# Fit it to the training data\n",
    "logreg_cv.fit(X_train, y_train)\n",
    "\n",
    "# Print the optimal parameters and best score\n",
    "print(\"Tuned Logistic Regression Parameter: {}\".format(logreg_cv.best_params_))\n",
    "print(\"Tuned Logistic Regression Accuracy: {}\".format(logreg_cv.best_score_))"
   ]
  },
  {
   "cell_type": "code",
   "execution_count": 92,
   "metadata": {},
   "outputs": [
    {
     "name": "stdout",
     "output_type": "stream",
     "text": [
      "Accuracy of logistic regression classifier on test set: 0.97\n"
     ]
    }
   ],
   "source": [
    "# Validate the model using test data\n",
    "y_pred_logreg_cv = logreg_cv.predict(X_test)\n",
    "print('Accuracy of logistic regression classifier on test set: {:.2f}'.format(logreg_cv.score(X_test, y_test)))"
   ]
  },
  {
   "cell_type": "code",
   "execution_count": 93,
   "metadata": {},
   "outputs": [
    {
     "name": "stdout",
     "output_type": "stream",
     "text": [
      "[[138   2]\n",
      " [  5  60]]\n"
     ]
    }
   ],
   "source": [
    "# Examine results from Logistic Regression model\n",
    "# Calculate confusion matrix on test data\n",
    "from sklearn.metrics import confusion_matrix\n",
    "confusion_matrix = confusion_matrix(y_test, y_pred_logreg_cv)\n",
    "print(confusion_matrix)"
   ]
  },
  {
   "cell_type": "code",
   "execution_count": 94,
   "metadata": {},
   "outputs": [
    {
     "name": "stdout",
     "output_type": "stream",
     "text": [
      "             precision    recall  f1-score   support\n",
      "\n",
      "          0       0.97      0.99      0.98       140\n",
      "          1       0.97      0.92      0.94        65\n",
      "\n",
      "avg / total       0.97      0.97      0.97       205\n",
      "\n"
     ]
    }
   ],
   "source": [
    "# Calculate Classification Report on test data\n",
    "from sklearn.metrics import classification_report\n",
    "print(classification_report(y_test, y_pred_logreg_cv))"
   ]
  },
  {
   "cell_type": "code",
   "execution_count": 95,
   "metadata": {},
   "outputs": [
    {
     "data": {
      "image/png": "[encoded data removed]",
      "text/plain": [
       "<matplotlib.figure.Figure at 0x7f2c316c3278>"
      ]
     },
     "metadata": {},
     "output_type": "display_data"
    }
   ],
   "source": [
    "# Calculate the ROC curve for Logistic Regressioin Model\n",
    "from sklearn.metrics import roc_auc_score\n",
    "from sklearn.metrics import roc_curve\n",
    "logit_roc_auc = roc_auc_score(y_test, logreg_cv.predict(X_test))\n",
    "fpr, tpr, thresholds = roc_curve(y_test, logreg_cv.predict_proba(X_test)[:,1])\n",
    "plt.figure()\n",
    "plt.plot(fpr, tpr, label='Logistic Regression (area = %0.2f)' % logit_roc_auc)\n",
    "plt.plot([0, 1], [0, 1],'r--')\n",
    "plt.xlim([-0.05, 1.0])\n",
    "plt.ylim([0.0, 1.05])\n",
    "plt.xlabel('False Positive Rate')\n",
    "plt.ylabel('True Positive Rate')\n",
    "plt.title('Receiver operating characteristic')\n",
    "plt.legend(loc=\"lower right\")\n",
    "plt.savefig('Log_ROC')\n",
    "plt.show()"
   ]
  },
  {
   "cell_type": "code",
   "execution_count": 101,
   "metadata": {},
   "outputs": [],
   "source": [
    "from sklearn import svm\n",
    "model = svm.SVC()\n",
    "model = model.fit(X_train, y_train)\n",
    "y_pred_model = model.predict(X_test)"
   ]
  },
  {
   "cell_type": "code",
   "execution_count": 102,
   "metadata": {},
   "outputs": [
    {
     "name": "stdout",
     "output_type": "stream",
     "text": [
      "[[133   7]\n",
      " [  0  65]]\n"
     ]
    }
   ],
   "source": [
    "# Examine results from Logistic Regression model\n",
    "# Calculate confusion matrix on test data\n",
    "from sklearn.metrics import confusion_matrix\n",
    "confusion_matrix = confusion_matrix(y_test, y_pred_model)\n",
    "print(confusion_matrix)"
   ]
  },
  {
   "cell_type": "code",
   "execution_count": 103,
   "metadata": {},
   "outputs": [
    {
     "name": "stdout",
     "output_type": "stream",
     "text": [
      "             precision    recall  f1-score   support\n",
      "\n",
      "          0       1.00      0.95      0.97       140\n",
      "          1       0.90      1.00      0.95        65\n",
      "\n",
      "avg / total       0.97      0.97      0.97       205\n",
      "\n"
     ]
    }
   ],
   "source": [
    "# Calculate Classification Report on test data\n",
    "from sklearn.metrics import classification_report\n",
    "print(classification_report(y_test, y_pred_model))"
   ]
  },
  {
   "cell_type": "code",
   "execution_count": 109,
   "metadata": {},
   "outputs": [],
   "source": [
    "from sklearn.naive_bayes import GaussianNB\n",
    "bayes = GaussianNB()\n",
    "bayes = bayes.fit(X_train, y_train)\n",
    "y_pred_bayes = bayes.predict(X_test)"
   ]
  },
  {
   "cell_type": "code",
   "execution_count": 110,
   "metadata": {},
   "outputs": [
    {
     "name": "stdout",
     "output_type": "stream",
     "text": [
      "[[133   7]\n",
      " [  0  65]]\n"
     ]
    }
   ],
   "source": [
    "# Examine results from Logistic Regression model\n",
    "# Calculate confusion matrix on test data\n",
    "from sklearn.metrics import confusion_matrix\n",
    "confusion_matrix = confusion_matrix(y_test, y_pred_bayes)\n",
    "print(confusion_matrix)"
   ]
  },
  {
   "cell_type": "code",
   "execution_count": 111,
   "metadata": {},
   "outputs": [
    {
     "name": "stdout",
     "output_type": "stream",
     "text": [
      "             precision    recall  f1-score   support\n",
      "\n",
      "          0       1.00      0.95      0.97       140\n",
      "          1       0.90      1.00      0.95        65\n",
      "\n",
      "avg / total       0.97      0.97      0.97       205\n",
      "\n"
     ]
    }
   ],
   "source": [
    "# Calculate Classification Report on test data\n",
    "from sklearn.metrics import classification_report\n",
    "print(classification_report(y_test, y_pred_bayes))"
   ]
  },
  {
   "cell_type": "code",
   "execution_count": 112,
   "metadata": {},
   "outputs": [],
   "source": [
    "from sklearn.neighbors import KNeighborsClassifier\n",
    "KNN = KNeighborsClassifier(n_neighbors=6)\n",
    "KNN = KNN.fit(X_train, y_train)\n",
    "y_pred_KNN = KNN.predict(X_test)"
   ]
  },
  {
   "cell_type": "code",
   "execution_count": 113,
   "metadata": {},
   "outputs": [
    {
     "name": "stdout",
     "output_type": "stream",
     "text": [
      "[[138   2]\n",
      " [  5  60]]\n"
     ]
    }
   ],
   "source": [
    "# Calculate confusion matrix on test data\n",
    "from sklearn.metrics import confusion_matrix\n",
    "confusion_matrix = confusion_matrix(y_test, y_pred_KNN)\n",
    "print(confusion_matrix)"
   ]
  },
  {
   "cell_type": "code",
   "execution_count": 114,
   "metadata": {},
   "outputs": [
    {
     "name": "stdout",
     "output_type": "stream",
     "text": [
      "             precision    recall  f1-score   support\n",
      "\n",
      "          0       0.97      0.99      0.98       140\n",
      "          1       0.97      0.92      0.94        65\n",
      "\n",
      "avg / total       0.97      0.97      0.97       205\n",
      "\n"
     ]
    }
   ],
   "source": [
    "# Calculate Classification Report on test data\n",
    "from sklearn.metrics import classification_report\n",
    "print(classification_report(y_test, y_pred_KNN))"
   ]
  },
  {
   "cell_type": "markdown",
   "metadata": {},
   "source": [
    "# Conclusion: All models predict test data with well.  The Logistic Regression needed to have the hyperparameter tuned to achieve this. SVM and Naive Bayes performed the best."
   ]
  }
 ],
 "metadata": {
  "kernelspec": {
   "display_name": "Python 3",
   "language": "python",
   "name": "python3"
  },
  "language_info": {
   "codemirror_mode": {
    "name": "ipython",
    "version": 3
   },
   "file_extension": ".py",
   "mimetype": "text/x-python",
   "name": "python",
   "nbconvert_exporter": "python",
   "pygments_lexer": "ipython3",
   "version": "3.6.4"
  }
 },
 "nbformat": 4,
 "nbformat_minor": 2
}
